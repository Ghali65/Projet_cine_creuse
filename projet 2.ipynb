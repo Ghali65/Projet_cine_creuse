{
 "cells": [
  {
   "cell_type": "code",
   "execution_count": 1,
   "metadata": {},
   "outputs": [],
   "source": [
    "import seaborn as sns\n",
    "import matplotlib.pyplot as plt\n",
    "import pandas as pd\n",
    "import numpy as np\n",
    "import langdetect as lg\n",
    "import textblob as tb\n",
    "import langid as lgd\n",
    "\n"
   ]
  },
  {
   "cell_type": "code",
   "execution_count": null,
   "metadata": {},
   "outputs": [
    {
     "data": {
      "text/html": [
       "<div>\n",
       "<style scoped>\n",
       "    .dataframe tbody tr th:only-of-type {\n",
       "        vertical-align: middle;\n",
       "    }\n",
       "\n",
       "    .dataframe tbody tr th {\n",
       "        vertical-align: top;\n",
       "    }\n",
       "\n",
       "    .dataframe thead th {\n",
       "        text-align: right;\n",
       "    }\n",
       "</style>\n",
       "<table border=\"1\" class=\"dataframe\">\n",
       "  <thead>\n",
       "    <tr style=\"text-align: right;\">\n",
       "      <th></th>\n",
       "      <th>nconst</th>\n",
       "      <th>primaryName</th>\n",
       "      <th>birthYear</th>\n",
       "      <th>deathYear</th>\n",
       "      <th>primaryProfession</th>\n",
       "      <th>knownForTitles</th>\n",
       "    </tr>\n",
       "  </thead>\n",
       "  <tbody>\n",
       "    <tr>\n",
       "      <th>0</th>\n",
       "      <td>nm0000001</td>\n",
       "      <td>Fred Astaire</td>\n",
       "      <td>1899</td>\n",
       "      <td>1987</td>\n",
       "      <td>actor,miscellaneous,producer</td>\n",
       "      <td>tt0050419,tt0072308,tt0053137,tt0027125</td>\n",
       "    </tr>\n",
       "    <tr>\n",
       "      <th>1</th>\n",
       "      <td>nm0000002</td>\n",
       "      <td>Lauren Bacall</td>\n",
       "      <td>1924</td>\n",
       "      <td>2014</td>\n",
       "      <td>actress,soundtrack,archive_footage</td>\n",
       "      <td>tt0037382,tt0075213,tt0117057,tt0038355</td>\n",
       "    </tr>\n",
       "    <tr>\n",
       "      <th>2</th>\n",
       "      <td>nm0000003</td>\n",
       "      <td>Brigitte Bardot</td>\n",
       "      <td>1934</td>\n",
       "      <td>\\N</td>\n",
       "      <td>actress,music_department,producer</td>\n",
       "      <td>tt0057345,tt0049189,tt0056404,tt0054452</td>\n",
       "    </tr>\n",
       "    <tr>\n",
       "      <th>3</th>\n",
       "      <td>nm0000004</td>\n",
       "      <td>John Belushi</td>\n",
       "      <td>1949</td>\n",
       "      <td>1982</td>\n",
       "      <td>actor,writer,music_department</td>\n",
       "      <td>tt0072562,tt0077975,tt0080455,tt0078723</td>\n",
       "    </tr>\n",
       "    <tr>\n",
       "      <th>4</th>\n",
       "      <td>nm0000005</td>\n",
       "      <td>Ingmar Bergman</td>\n",
       "      <td>1918</td>\n",
       "      <td>2007</td>\n",
       "      <td>writer,director,actor</td>\n",
       "      <td>tt0050986,tt0069467,tt0083922,tt0050976</td>\n",
       "    </tr>\n",
       "    <tr>\n",
       "      <th>5</th>\n",
       "      <td>nm0000006</td>\n",
       "      <td>Ingrid Bergman</td>\n",
       "      <td>1915</td>\n",
       "      <td>1982</td>\n",
       "      <td>actress,producer,soundtrack</td>\n",
       "      <td>tt0034583,tt0036855,tt0038109,tt0038787</td>\n",
       "    </tr>\n",
       "    <tr>\n",
       "      <th>6</th>\n",
       "      <td>nm0000007</td>\n",
       "      <td>Humphrey Bogart</td>\n",
       "      <td>1899</td>\n",
       "      <td>1957</td>\n",
       "      <td>actor,producer,miscellaneous</td>\n",
       "      <td>tt0034583,tt0037382,tt0042593,tt0043265</td>\n",
       "    </tr>\n",
       "    <tr>\n",
       "      <th>7</th>\n",
       "      <td>nm0000008</td>\n",
       "      <td>Marlon Brando</td>\n",
       "      <td>1924</td>\n",
       "      <td>2004</td>\n",
       "      <td>actor,director,writer</td>\n",
       "      <td>tt0078788,tt0068646,tt0047296,tt0070849</td>\n",
       "    </tr>\n",
       "    <tr>\n",
       "      <th>8</th>\n",
       "      <td>nm0000009</td>\n",
       "      <td>Richard Burton</td>\n",
       "      <td>1925</td>\n",
       "      <td>1984</td>\n",
       "      <td>actor,producer,director</td>\n",
       "      <td>tt0061184,tt0087803,tt0059749,tt0057877</td>\n",
       "    </tr>\n",
       "    <tr>\n",
       "      <th>9</th>\n",
       "      <td>nm0000010</td>\n",
       "      <td>James Cagney</td>\n",
       "      <td>1899</td>\n",
       "      <td>1986</td>\n",
       "      <td>actor,director,producer</td>\n",
       "      <td>tt0029870,tt0031867,tt0042041,tt0055256</td>\n",
       "    </tr>\n",
       "    <tr>\n",
       "      <th>10</th>\n",
       "      <td>nm0000011</td>\n",
       "      <td>Gary Cooper</td>\n",
       "      <td>1901</td>\n",
       "      <td>1961</td>\n",
       "      <td>actor,stunts,producer</td>\n",
       "      <td>tt0044706,tt0034167,tt0027996,tt0035896</td>\n",
       "    </tr>\n",
       "    <tr>\n",
       "      <th>11</th>\n",
       "      <td>nm0000012</td>\n",
       "      <td>Bette Davis</td>\n",
       "      <td>1908</td>\n",
       "      <td>1989</td>\n",
       "      <td>actress,make_up_department,producer</td>\n",
       "      <td>tt0042192,tt0056687,tt0031210,tt0035140</td>\n",
       "    </tr>\n",
       "    <tr>\n",
       "      <th>12</th>\n",
       "      <td>nm0000013</td>\n",
       "      <td>Doris Day</td>\n",
       "      <td>1922</td>\n",
       "      <td>2019</td>\n",
       "      <td>actress,producer,miscellaneous</td>\n",
       "      <td>tt0048317,tt0045591,tt0053172,tt0049470</td>\n",
       "    </tr>\n",
       "    <tr>\n",
       "      <th>13</th>\n",
       "      <td>nm0000014</td>\n",
       "      <td>Olivia de Havilland</td>\n",
       "      <td>1916</td>\n",
       "      <td>2020</td>\n",
       "      <td>actress,soundtrack,archive_footage</td>\n",
       "      <td>tt0031381,tt0041452,tt0029843,tt0040806</td>\n",
       "    </tr>\n",
       "    <tr>\n",
       "      <th>14</th>\n",
       "      <td>nm0000015</td>\n",
       "      <td>James Dean</td>\n",
       "      <td>1931</td>\n",
       "      <td>1955</td>\n",
       "      <td>actor,miscellaneous,archive_footage</td>\n",
       "      <td>tt0048028,tt0048545,tt0049261,tt0039123</td>\n",
       "    </tr>\n",
       "    <tr>\n",
       "      <th>15</th>\n",
       "      <td>nm0000016</td>\n",
       "      <td>Georges Delerue</td>\n",
       "      <td>1925</td>\n",
       "      <td>1992</td>\n",
       "      <td>composer,music_department,actor</td>\n",
       "      <td>tt0091763,tt0096320,tt0069946,tt0080610</td>\n",
       "    </tr>\n",
       "    <tr>\n",
       "      <th>16</th>\n",
       "      <td>nm0000017</td>\n",
       "      <td>Marlene Dietrich</td>\n",
       "      <td>1901</td>\n",
       "      <td>1992</td>\n",
       "      <td>actress,music_department,soundtrack</td>\n",
       "      <td>tt0051201,tt0055031,tt0052311,tt0021156</td>\n",
       "    </tr>\n",
       "    <tr>\n",
       "      <th>17</th>\n",
       "      <td>nm0000018</td>\n",
       "      <td>Kirk Douglas</td>\n",
       "      <td>1916</td>\n",
       "      <td>2020</td>\n",
       "      <td>actor,producer,director</td>\n",
       "      <td>tt0080736,tt0054331,tt0049456,tt0050825</td>\n",
       "    </tr>\n",
       "    <tr>\n",
       "      <th>18</th>\n",
       "      <td>nm0000019</td>\n",
       "      <td>Federico Fellini</td>\n",
       "      <td>1920</td>\n",
       "      <td>1993</td>\n",
       "      <td>writer,director,actor</td>\n",
       "      <td>tt0056801,tt0050783,tt0047528,tt0053779</td>\n",
       "    </tr>\n",
       "    <tr>\n",
       "      <th>19</th>\n",
       "      <td>nm0000020</td>\n",
       "      <td>Henry Fonda</td>\n",
       "      <td>1905</td>\n",
       "      <td>1982</td>\n",
       "      <td>actor,producer,miscellaneous</td>\n",
       "      <td>tt0050083,tt0082846,tt0032551,tt0051207</td>\n",
       "    </tr>\n",
       "  </tbody>\n",
       "</table>\n",
       "</div>"
      ],
      "text/plain": [
       "       nconst          primaryName birthYear deathYear  \\\n",
       "0   nm0000001         Fred Astaire      1899      1987   \n",
       "1   nm0000002        Lauren Bacall      1924      2014   \n",
       "2   nm0000003      Brigitte Bardot      1934        \\N   \n",
       "3   nm0000004         John Belushi      1949      1982   \n",
       "4   nm0000005       Ingmar Bergman      1918      2007   \n",
       "5   nm0000006       Ingrid Bergman      1915      1982   \n",
       "6   nm0000007      Humphrey Bogart      1899      1957   \n",
       "7   nm0000008        Marlon Brando      1924      2004   \n",
       "8   nm0000009       Richard Burton      1925      1984   \n",
       "9   nm0000010         James Cagney      1899      1986   \n",
       "10  nm0000011          Gary Cooper      1901      1961   \n",
       "11  nm0000012          Bette Davis      1908      1989   \n",
       "12  nm0000013            Doris Day      1922      2019   \n",
       "13  nm0000014  Olivia de Havilland      1916      2020   \n",
       "14  nm0000015           James Dean      1931      1955   \n",
       "15  nm0000016      Georges Delerue      1925      1992   \n",
       "16  nm0000017     Marlene Dietrich      1901      1992   \n",
       "17  nm0000018         Kirk Douglas      1916      2020   \n",
       "18  nm0000019     Federico Fellini      1920      1993   \n",
       "19  nm0000020          Henry Fonda      1905      1982   \n",
       "\n",
       "                      primaryProfession  \\\n",
       "0          actor,miscellaneous,producer   \n",
       "1    actress,soundtrack,archive_footage   \n",
       "2     actress,music_department,producer   \n",
       "3         actor,writer,music_department   \n",
       "4                 writer,director,actor   \n",
       "5           actress,producer,soundtrack   \n",
       "6          actor,producer,miscellaneous   \n",
       "7                 actor,director,writer   \n",
       "8               actor,producer,director   \n",
       "9               actor,director,producer   \n",
       "10                actor,stunts,producer   \n",
       "11  actress,make_up_department,producer   \n",
       "12       actress,producer,miscellaneous   \n",
       "13   actress,soundtrack,archive_footage   \n",
       "14  actor,miscellaneous,archive_footage   \n",
       "15      composer,music_department,actor   \n",
       "16  actress,music_department,soundtrack   \n",
       "17              actor,producer,director   \n",
       "18                writer,director,actor   \n",
       "19         actor,producer,miscellaneous   \n",
       "\n",
       "                             knownForTitles  \n",
       "0   tt0050419,tt0072308,tt0053137,tt0027125  \n",
       "1   tt0037382,tt0075213,tt0117057,tt0038355  \n",
       "2   tt0057345,tt0049189,tt0056404,tt0054452  \n",
       "3   tt0072562,tt0077975,tt0080455,tt0078723  \n",
       "4   tt0050986,tt0069467,tt0083922,tt0050976  \n",
       "5   tt0034583,tt0036855,tt0038109,tt0038787  \n",
       "6   tt0034583,tt0037382,tt0042593,tt0043265  \n",
       "7   tt0078788,tt0068646,tt0047296,tt0070849  \n",
       "8   tt0061184,tt0087803,tt0059749,tt0057877  \n",
       "9   tt0029870,tt0031867,tt0042041,tt0055256  \n",
       "10  tt0044706,tt0034167,tt0027996,tt0035896  \n",
       "11  tt0042192,tt0056687,tt0031210,tt0035140  \n",
       "12  tt0048317,tt0045591,tt0053172,tt0049470  \n",
       "13  tt0031381,tt0041452,tt0029843,tt0040806  \n",
       "14  tt0048028,tt0048545,tt0049261,tt0039123  \n",
       "15  tt0091763,tt0096320,tt0069946,tt0080610  \n",
       "16  tt0051201,tt0055031,tt0052311,tt0021156  \n",
       "17  tt0080736,tt0054331,tt0049456,tt0050825  \n",
       "18  tt0056801,tt0050783,tt0047528,tt0053779  \n",
       "19  tt0050083,tt0082846,tt0032551,tt0051207  "
      ]
     },
     "execution_count": 2,
     "metadata": {},
     "output_type": "execute_result"
    },
    {
     "ename": "",
     "evalue": "",
     "output_type": "error",
     "traceback": [
      "\u001b[1;31mThe Kernel crashed while executing code in the current cell or a previous cell. \n",
      "\u001b[1;31mPlease review the code in the cell(s) to identify a possible cause of the failure. \n",
      "\u001b[1;31mClick <a href='https://aka.ms/vscodeJupyterKernelCrash'>here</a> for more info. \n",
      "\u001b[1;31mView Jupyter <a href='command:jupyter.viewOutput'>log</a> for further details."
     ]
    }
   ],
   "source": [
    "link = \"name.basics.tsv\"\n",
    "df_pj2_name_basics= pd.read_csv(link, sep = \"\\t\")\n",
    "\n",
    "df_pj2_name_basics.head(20)\n"
   ]
  },
  {
   "cell_type": "code",
   "execution_count": null,
   "metadata": {},
   "outputs": [],
   "source": [
    "\n",
    "link = \"title.principals.tsv\"\n",
    "df_pj2_principals= pd.read_csv(link, sep = \"\\t\")"
   ]
  },
  {
   "cell_type": "code",
   "execution_count": null,
   "metadata": {},
   "outputs": [
    {
     "data": {
      "text/html": [
       "<div>\n",
       "<style scoped>\n",
       "    .dataframe tbody tr th:only-of-type {\n",
       "        vertical-align: middle;\n",
       "    }\n",
       "\n",
       "    .dataframe tbody tr th {\n",
       "        vertical-align: top;\n",
       "    }\n",
       "\n",
       "    .dataframe thead th {\n",
       "        text-align: right;\n",
       "    }\n",
       "</style>\n",
       "<table border=\"1\" class=\"dataframe\">\n",
       "  <thead>\n",
       "    <tr style=\"text-align: right;\">\n",
       "      <th></th>\n",
       "      <th>tconst</th>\n",
       "      <th>ordering</th>\n",
       "      <th>nconst</th>\n",
       "      <th>category</th>\n",
       "      <th>job</th>\n",
       "      <th>characters</th>\n",
       "    </tr>\n",
       "  </thead>\n",
       "  <tbody>\n",
       "    <tr>\n",
       "      <th>0</th>\n",
       "      <td>tt0000001</td>\n",
       "      <td>1</td>\n",
       "      <td>nm1588970</td>\n",
       "      <td>self</td>\n",
       "      <td>\\N</td>\n",
       "      <td>[\"Self\"]</td>\n",
       "    </tr>\n",
       "    <tr>\n",
       "      <th>1</th>\n",
       "      <td>tt0000001</td>\n",
       "      <td>2</td>\n",
       "      <td>nm0005690</td>\n",
       "      <td>director</td>\n",
       "      <td>\\N</td>\n",
       "      <td>\\N</td>\n",
       "    </tr>\n",
       "    <tr>\n",
       "      <th>2</th>\n",
       "      <td>tt0000001</td>\n",
       "      <td>3</td>\n",
       "      <td>nm0005690</td>\n",
       "      <td>producer</td>\n",
       "      <td>producer</td>\n",
       "      <td>\\N</td>\n",
       "    </tr>\n",
       "    <tr>\n",
       "      <th>3</th>\n",
       "      <td>tt0000001</td>\n",
       "      <td>4</td>\n",
       "      <td>nm0374658</td>\n",
       "      <td>cinematographer</td>\n",
       "      <td>director of photography</td>\n",
       "      <td>\\N</td>\n",
       "    </tr>\n",
       "    <tr>\n",
       "      <th>4</th>\n",
       "      <td>tt0000002</td>\n",
       "      <td>1</td>\n",
       "      <td>nm0721526</td>\n",
       "      <td>director</td>\n",
       "      <td>\\N</td>\n",
       "      <td>\\N</td>\n",
       "    </tr>\n",
       "    <tr>\n",
       "      <th>5</th>\n",
       "      <td>tt0000002</td>\n",
       "      <td>2</td>\n",
       "      <td>nm1335271</td>\n",
       "      <td>composer</td>\n",
       "      <td>\\N</td>\n",
       "      <td>\\N</td>\n",
       "    </tr>\n",
       "    <tr>\n",
       "      <th>6</th>\n",
       "      <td>tt0000003</td>\n",
       "      <td>1</td>\n",
       "      <td>nm0721526</td>\n",
       "      <td>director</td>\n",
       "      <td>\\N</td>\n",
       "      <td>\\N</td>\n",
       "    </tr>\n",
       "    <tr>\n",
       "      <th>7</th>\n",
       "      <td>tt0000003</td>\n",
       "      <td>2</td>\n",
       "      <td>nm1770680</td>\n",
       "      <td>producer</td>\n",
       "      <td>producer</td>\n",
       "      <td>\\N</td>\n",
       "    </tr>\n",
       "    <tr>\n",
       "      <th>8</th>\n",
       "      <td>tt0000003</td>\n",
       "      <td>3</td>\n",
       "      <td>nm0721526</td>\n",
       "      <td>producer</td>\n",
       "      <td>producer</td>\n",
       "      <td>\\N</td>\n",
       "    </tr>\n",
       "    <tr>\n",
       "      <th>9</th>\n",
       "      <td>tt0000003</td>\n",
       "      <td>4</td>\n",
       "      <td>nm1335271</td>\n",
       "      <td>composer</td>\n",
       "      <td>\\N</td>\n",
       "      <td>\\N</td>\n",
       "    </tr>\n",
       "    <tr>\n",
       "      <th>10</th>\n",
       "      <td>tt0000003</td>\n",
       "      <td>5</td>\n",
       "      <td>nm5442200</td>\n",
       "      <td>editor</td>\n",
       "      <td>editor</td>\n",
       "      <td>\\N</td>\n",
       "    </tr>\n",
       "    <tr>\n",
       "      <th>11</th>\n",
       "      <td>tt0000004</td>\n",
       "      <td>1</td>\n",
       "      <td>nm0721526</td>\n",
       "      <td>director</td>\n",
       "      <td>\\N</td>\n",
       "      <td>\\N</td>\n",
       "    </tr>\n",
       "    <tr>\n",
       "      <th>12</th>\n",
       "      <td>tt0000004</td>\n",
       "      <td>2</td>\n",
       "      <td>nm1335271</td>\n",
       "      <td>composer</td>\n",
       "      <td>\\N</td>\n",
       "      <td>\\N</td>\n",
       "    </tr>\n",
       "    <tr>\n",
       "      <th>13</th>\n",
       "      <td>tt0000005</td>\n",
       "      <td>1</td>\n",
       "      <td>nm0443482</td>\n",
       "      <td>actor</td>\n",
       "      <td>\\N</td>\n",
       "      <td>[\"Blacksmith\"]</td>\n",
       "    </tr>\n",
       "    <tr>\n",
       "      <th>14</th>\n",
       "      <td>tt0000005</td>\n",
       "      <td>2</td>\n",
       "      <td>nm0653042</td>\n",
       "      <td>actor</td>\n",
       "      <td>\\N</td>\n",
       "      <td>[\"Assistant\"]</td>\n",
       "    </tr>\n",
       "    <tr>\n",
       "      <th>15</th>\n",
       "      <td>tt0000005</td>\n",
       "      <td>3</td>\n",
       "      <td>nm0249379</td>\n",
       "      <td>producer</td>\n",
       "      <td>producer</td>\n",
       "      <td>\\N</td>\n",
       "    </tr>\n",
       "    <tr>\n",
       "      <th>16</th>\n",
       "      <td>tt0000007</td>\n",
       "      <td>1</td>\n",
       "      <td>nm0179163</td>\n",
       "      <td>actor</td>\n",
       "      <td>\\N</td>\n",
       "      <td>\\N</td>\n",
       "    </tr>\n",
       "    <tr>\n",
       "      <th>17</th>\n",
       "      <td>tt0000007</td>\n",
       "      <td>2</td>\n",
       "      <td>nm0183947</td>\n",
       "      <td>actor</td>\n",
       "      <td>\\N</td>\n",
       "      <td>\\N</td>\n",
       "    </tr>\n",
       "    <tr>\n",
       "      <th>18</th>\n",
       "      <td>tt0000007</td>\n",
       "      <td>3</td>\n",
       "      <td>nm0005690</td>\n",
       "      <td>director</td>\n",
       "      <td>\\N</td>\n",
       "      <td>\\N</td>\n",
       "    </tr>\n",
       "    <tr>\n",
       "      <th>19</th>\n",
       "      <td>tt0000007</td>\n",
       "      <td>4</td>\n",
       "      <td>nm0374658</td>\n",
       "      <td>director</td>\n",
       "      <td>\\N</td>\n",
       "      <td>\\N</td>\n",
       "    </tr>\n",
       "  </tbody>\n",
       "</table>\n",
       "</div>"
      ],
      "text/plain": [
       "       tconst  ordering     nconst         category                      job  \\\n",
       "0   tt0000001         1  nm1588970             self                       \\N   \n",
       "1   tt0000001         2  nm0005690         director                       \\N   \n",
       "2   tt0000001         3  nm0005690         producer                 producer   \n",
       "3   tt0000001         4  nm0374658  cinematographer  director of photography   \n",
       "4   tt0000002         1  nm0721526         director                       \\N   \n",
       "5   tt0000002         2  nm1335271         composer                       \\N   \n",
       "6   tt0000003         1  nm0721526         director                       \\N   \n",
       "7   tt0000003         2  nm1770680         producer                 producer   \n",
       "8   tt0000003         3  nm0721526         producer                 producer   \n",
       "9   tt0000003         4  nm1335271         composer                       \\N   \n",
       "10  tt0000003         5  nm5442200           editor                   editor   \n",
       "11  tt0000004         1  nm0721526         director                       \\N   \n",
       "12  tt0000004         2  nm1335271         composer                       \\N   \n",
       "13  tt0000005         1  nm0443482            actor                       \\N   \n",
       "14  tt0000005         2  nm0653042            actor                       \\N   \n",
       "15  tt0000005         3  nm0249379         producer                 producer   \n",
       "16  tt0000007         1  nm0179163            actor                       \\N   \n",
       "17  tt0000007         2  nm0183947            actor                       \\N   \n",
       "18  tt0000007         3  nm0005690         director                       \\N   \n",
       "19  tt0000007         4  nm0374658         director                       \\N   \n",
       "\n",
       "        characters  \n",
       "0         [\"Self\"]  \n",
       "1               \\N  \n",
       "2               \\N  \n",
       "3               \\N  \n",
       "4               \\N  \n",
       "5               \\N  \n",
       "6               \\N  \n",
       "7               \\N  \n",
       "8               \\N  \n",
       "9               \\N  \n",
       "10              \\N  \n",
       "11              \\N  \n",
       "12              \\N  \n",
       "13  [\"Blacksmith\"]  \n",
       "14   [\"Assistant\"]  \n",
       "15              \\N  \n",
       "16              \\N  \n",
       "17              \\N  \n",
       "18              \\N  \n",
       "19              \\N  "
      ]
     },
     "execution_count": 161,
     "metadata": {},
     "output_type": "execute_result"
    }
   ],
   "source": [
    "df_pj2_principals.head(20)"
   ]
  },
  {
   "cell_type": "code",
   "execution_count": null,
   "metadata": {},
   "outputs": [],
   "source": [
    "link = \"title.akas.tsv\"\n",
    "df_pj2_akas= pd.read_csv(link, sep = \"\\t\")"
   ]
  },
  {
   "cell_type": "code",
   "execution_count": null,
   "metadata": {},
   "outputs": [
    {
     "name": "stderr",
     "output_type": "stream",
     "text": [
      "C:\\Users\\remim\\AppData\\Local\\Temp\\ipykernel_33136\\4077246779.py:2: DtypeWarning:\n",
      "\n",
      "Columns (4) have mixed types. Specify dtype option on import or set low_memory=False.\n",
      "\n"
     ]
    },
    {
     "data": {
      "text/html": [
       "<div>\n",
       "<style scoped>\n",
       "    .dataframe tbody tr th:only-of-type {\n",
       "        vertical-align: middle;\n",
       "    }\n",
       "\n",
       "    .dataframe tbody tr th {\n",
       "        vertical-align: top;\n",
       "    }\n",
       "\n",
       "    .dataframe thead th {\n",
       "        text-align: right;\n",
       "    }\n",
       "</style>\n",
       "<table border=\"1\" class=\"dataframe\">\n",
       "  <thead>\n",
       "    <tr style=\"text-align: right;\">\n",
       "      <th></th>\n",
       "      <th>tconst</th>\n",
       "      <th>titleType</th>\n",
       "      <th>primaryTitle</th>\n",
       "      <th>originalTitle</th>\n",
       "      <th>isAdult</th>\n",
       "      <th>startYear</th>\n",
       "      <th>endYear</th>\n",
       "      <th>runtimeMinutes</th>\n",
       "      <th>genres</th>\n",
       "    </tr>\n",
       "  </thead>\n",
       "  <tbody>\n",
       "    <tr>\n",
       "      <th>count</th>\n",
       "      <td>11217433</td>\n",
       "      <td>11217433</td>\n",
       "      <td>11217414</td>\n",
       "      <td>11217414</td>\n",
       "      <td>11217433</td>\n",
       "      <td>11217433</td>\n",
       "      <td>11217433</td>\n",
       "      <td>11217433</td>\n",
       "      <td>11216802</td>\n",
       "    </tr>\n",
       "    <tr>\n",
       "      <th>unique</th>\n",
       "      <td>11217433</td>\n",
       "      <td>11</td>\n",
       "      <td>5035446</td>\n",
       "      <td>5059932</td>\n",
       "      <td>44</td>\n",
       "      <td>152</td>\n",
       "      <td>98</td>\n",
       "      <td>937</td>\n",
       "      <td>2383</td>\n",
       "    </tr>\n",
       "    <tr>\n",
       "      <th>top</th>\n",
       "      <td>tt9916880</td>\n",
       "      <td>tvEpisode</td>\n",
       "      <td>Episode #1.1</td>\n",
       "      <td>Episode #1.1</td>\n",
       "      <td>0</td>\n",
       "      <td>\\N</td>\n",
       "      <td>\\N</td>\n",
       "      <td>\\N</td>\n",
       "      <td>Drama</td>\n",
       "    </tr>\n",
       "    <tr>\n",
       "      <th>freq</th>\n",
       "      <td>1</td>\n",
       "      <td>8614784</td>\n",
       "      <td>53342</td>\n",
       "      <td>53342</td>\n",
       "      <td>10792611</td>\n",
       "      <td>1416977</td>\n",
       "      <td>11085659</td>\n",
       "      <td>7677725</td>\n",
       "      <td>1270443</td>\n",
       "    </tr>\n",
       "  </tbody>\n",
       "</table>\n",
       "</div>"
      ],
      "text/plain": [
       "           tconst  titleType  primaryTitle originalTitle   isAdult startYear  \\\n",
       "count    11217433   11217433      11217414      11217414  11217433  11217433   \n",
       "unique   11217433         11       5035446       5059932        44       152   \n",
       "top     tt9916880  tvEpisode  Episode #1.1  Episode #1.1         0        \\N   \n",
       "freq            1    8614784         53342         53342  10792611   1416977   \n",
       "\n",
       "         endYear runtimeMinutes    genres  \n",
       "count   11217433       11217433  11216802  \n",
       "unique        98            937      2383  \n",
       "top           \\N             \\N     Drama  \n",
       "freq    11085659        7677725   1270443  "
      ]
     },
     "execution_count": 163,
     "metadata": {},
     "output_type": "execute_result"
    }
   ],
   "source": [
    "link = \"title.basics.tsv\"\n",
    "df_pj2_basics= pd.read_csv(link, sep = \"\\t\")\n",
    "\n",
    "df_pj2_basics.describe()"
   ]
  },
  {
   "cell_type": "code",
   "execution_count": null,
   "metadata": {},
   "outputs": [
    {
     "data": {
      "text/plain": [
       "titleType\n",
       "short           1026375\n",
       "movie            696417\n",
       "video            300230\n",
       "tvSeries         272387\n",
       "tvMovie          148747\n",
       "tvMiniSeries      57669\n",
       "tvSpecial         50023\n",
       "videoGame         40341\n",
       "tvShort           10459\n",
       "tvPilot               1\n",
       "Name: count, dtype: int64"
      ]
     },
     "execution_count": 219,
     "metadata": {},
     "output_type": "execute_result"
    }
   ],
   "source": [
    "masque_tv_basic = df_pj2_basics['titleType'] != 'tvEpisode'\n",
    "\n",
    "df_pj2_basics_ss_tv = df_pj2_basics[masque_tv_basic]\n",
    "\n",
    "df_pj2_basics_ss_tv['titleType'].value_counts()"
   ]
  },
  {
   "cell_type": "code",
   "execution_count": null,
   "metadata": {},
   "outputs": [],
   "source": [
    "link = \"title.crew.tsv\"\n",
    "df_pj2_crew= pd.read_csv(link, sep = \"\\t\")"
   ]
  },
  {
   "cell_type": "code",
   "execution_count": null,
   "metadata": {},
   "outputs": [
    {
     "name": "stdout",
     "output_type": "stream",
     "text": [
      "<class 'pandas.core.frame.DataFrame'>\n",
      "RangeIndex: 1495761 entries, 0 to 1495760\n",
      "Data columns (total 3 columns):\n",
      " #   Column         Non-Null Count    Dtype  \n",
      "---  ------         --------------    -----  \n",
      " 0   tconst         1495761 non-null  object \n",
      " 1   averageRating  1495761 non-null  float64\n",
      " 2   numVotes       1495761 non-null  int64  \n",
      "dtypes: float64(1), int64(1), object(1)\n",
      "memory usage: 34.2+ MB\n"
     ]
    }
   ],
   "source": [
    "link = \"title.ratings.tsv\"\n",
    "df_pj2_ratings= pd.read_csv(link, sep = \"\\t\")\n",
    "\n",
    "df_pj2_ratings.info()"
   ]
  },
  {
   "cell_type": "code",
   "execution_count": null,
   "metadata": {},
   "outputs": [],
   "source": [
    "# rating note median et mean\n",
    "\n",
    "median_rating_note =df_pj2_ratings['averageRating'].median()\n",
    "mean_rating_note = df_pj2_ratings['averageRating'].mean()\n",
    "\n"
   ]
  },
  {
   "cell_type": "code",
   "execution_count": null,
   "metadata": {},
   "outputs": [
    {
     "name": "stderr",
     "output_type": "stream",
     "text": [
      "C:\\Users\\remim\\AppData\\Local\\Temp\\ipykernel_33136\\2860112056.py:18: SettingWithCopyWarning:\n",
      "\n",
      "\n",
      "A value is trying to be set on a copy of a slice from a DataFrame.\n",
      "Try using .loc[row_indexer,col_indexer] = value instead\n",
      "\n",
      "See the caveats in the documentation: https://pandas.pydata.org/pandas-docs/stable/user_guide/indexing.html#returning-a-view-versus-a-copy\n",
      "\n",
      "C:\\Users\\remim\\AppData\\Local\\Temp\\ipykernel_33136\\2860112056.py:19: SettingWithCopyWarning:\n",
      "\n",
      "\n",
      "A value is trying to be set on a copy of a slice from a DataFrame.\n",
      "Try using .loc[row_indexer,col_indexer] = value instead\n",
      "\n",
      "See the caveats in the documentation: https://pandas.pydata.org/pandas-docs/stable/user_guide/indexing.html#returning-a-view-versus-a-copy\n",
      "\n",
      "C:\\Users\\remim\\AppData\\Local\\Temp\\ipykernel_33136\\2860112056.py:20: SettingWithCopyWarning:\n",
      "\n",
      "\n",
      "A value is trying to be set on a copy of a slice from a DataFrame.\n",
      "Try using .loc[row_indexer,col_indexer] = value instead\n",
      "\n",
      "See the caveats in the documentation: https://pandas.pydata.org/pandas-docs/stable/user_guide/indexing.html#returning-a-view-versus-a-copy\n",
      "\n",
      "C:\\Users\\remim\\AppData\\Local\\Temp\\ipykernel_33136\\2860112056.py:21: SettingWithCopyWarning:\n",
      "\n",
      "\n",
      "A value is trying to be set on a copy of a slice from a DataFrame.\n",
      "Try using .loc[row_indexer,col_indexer] = value instead\n",
      "\n",
      "See the caveats in the documentation: https://pandas.pydata.org/pandas-docs/stable/user_guide/indexing.html#returning-a-view-versus-a-copy\n",
      "\n"
     ]
    },
    {
     "data": {
      "text/plain": [
       "titleType\n",
       "movie      14548\n",
       "tvMovie      893\n",
       "Name: count, dtype: int64"
      ]
     },
     "execution_count": 168,
     "metadata": {},
     "output_type": "execute_result"
    }
   ],
   "source": [
    "# total vote, mean vote, median vote\n",
    "\n",
    "df_pj2_ratings.describe()\n",
    "\n",
    "masque_bool_numvote = (df_pj2_ratings['numVotes'] > 1000) & (df_pj2_ratings['averageRating'] >= 6.9)\n",
    "\n",
    "df_pj2_ratings_numvote = df_pj2_ratings[masque_bool_numvote]\n",
    "\n",
    "df_pj2_ratings_numvote.describe()\n",
    "\n",
    "df_ratings_merge_basics = df_pj2_basics_ss_tv.merge(df_pj2_ratings_numvote, how='inner', left_on=['tconst'], right_on=['tconst'])\n",
    "\n",
    "masque_merge_basics_ss_short =  (df_ratings_merge_basics['titleType'] == 'movie') | (df_ratings_merge_basics['titleType'] == 'tvMovie')\n",
    "\n",
    "df_ratings_merge_basics_ss_short = df_ratings_merge_basics[masque_merge_basics_ss_short]\n",
    "\n",
    "df_ratings_merge_basics_ss_short.sort_values(by =['averageRating'], ascending=False)\n",
    "df_ratings_merge_basics_ss_short['startYear'] = pd.to_datetime(df_ratings_merge_basics_ss_short['startYear'], format='%Y')\n",
    "df_ratings_merge_basics_ss_short['startYear'] = df_ratings_merge_basics_ss_short['startYear'].dt.year\n",
    "df_ratings_merge_basics_ss_short['bucket 10'] = (df_ratings_merge_basics_ss_short['startYear'] // 10) * 10\n",
    "df_ratings_merge_basics_ss_short['bucket 5'] = (df_ratings_merge_basics_ss_short['startYear'] // 5) * 5\n",
    "\n",
    "\n",
    "\n",
    "df_ratings_merge_basics_ss_short['titleType'].value_counts()\n",
    "\n",
    "\n"
   ]
  },
  {
   "cell_type": "code",
   "execution_count": null,
   "metadata": {},
   "outputs": [
    {
     "ename": "NameError",
     "evalue": "name 'df_ratings_merge_basics_ss_short' is not defined",
     "output_type": "error",
     "traceback": [
      "\u001b[0;31m---------------------------------------------------------------------------\u001b[0m",
      "\u001b[0;31mNameError\u001b[0m                                 Traceback (most recent call last)",
      "Cell \u001b[0;32mIn[4], line 10\u001b[0m\n\u001b[1;32m      7\u001b[0m     lang, _ \u001b[38;5;241m=\u001b[39m lgd\u001b[38;5;241m.\u001b[39mclassify(text) \n\u001b[1;32m      8\u001b[0m     \u001b[38;5;28;01mreturn\u001b[39;00m lang\n\u001b[0;32m---> 10\u001b[0m df_ratings_merge_basics_ss_short[\u001b[38;5;124m'\u001b[39m\u001b[38;5;124mlg title movie\u001b[39m\u001b[38;5;124m'\u001b[39m] \u001b[38;5;241m=\u001b[39m \u001b[43mdf_ratings_merge_basics_ss_short\u001b[49m[\u001b[38;5;124m'\u001b[39m\u001b[38;5;124moriginalTitle\u001b[39m\u001b[38;5;124m'\u001b[39m]\u001b[38;5;241m.\u001b[39mapply(detect_language)\n\u001b[1;32m     12\u001b[0m \u001b[38;5;66;03m#mas_lg = df_ratings_merge_basics_ss_short['lg title movie'] =='tl'\u001b[39;00m\n\u001b[1;32m     13\u001b[0m \n\u001b[1;32m     14\u001b[0m \u001b[38;5;66;03m#df_lg_test = df_ratings_merge_basics_ss_short[mas_lg]\u001b[39;00m\n\u001b[1;32m     15\u001b[0m df_ratings_merge_basics_ss_short[\u001b[38;5;124m'\u001b[39m\u001b[38;5;124mlg title movie\u001b[39m\u001b[38;5;124m'\u001b[39m]\u001b[38;5;241m.\u001b[39mvalue_counts()\n",
      "\u001b[0;31mNameError\u001b[0m: name 'df_ratings_merge_basics_ss_short' is not defined"
     ]
    }
   ],
   "source": [
    "#test traduction:\n",
    "\n",
    "\n",
    "import langid as lgd\n",
    "\n",
    "def detect_language(text): \n",
    "    lang, _ = lgd.classify(text) \n",
    "    return lang\n",
    "\n",
    "df_ratings_merge_basics_ss_short['lg title movie'] = df_ratings_merge_basics_ss_short['originalTitle'].apply(detect_language)\n",
    "\n",
    "#mas_lg = df_ratings_merge_basics_ss_short['lg title movie'] =='tl'\n",
    "\n",
    "#df_lg_test = df_ratings_merge_basics_ss_short[mas_lg]\n",
    "df_ratings_merge_basics_ss_short['lg title movie'].value_counts()"
   ]
  },
  {
   "cell_type": "code",
   "execution_count": null,
   "metadata": {},
   "outputs": [
    {
     "ename": "PermissionError",
     "evalue": "[Errno 13] Permission denied: 'merge_rating_lg.xlsx'",
     "output_type": "error",
     "traceback": [
      "\u001b[1;31m---------------------------------------------------------------------------\u001b[0m",
      "\u001b[1;31mPermissionError\u001b[0m                           Traceback (most recent call last)",
      "Cell \u001b[1;32mIn[170], line 1\u001b[0m\n\u001b[1;32m----> 1\u001b[0m \u001b[43mdf_ratings_merge_basics_ss_short\u001b[49m\u001b[38;5;241;43m.\u001b[39;49m\u001b[43mto_excel\u001b[49m\u001b[43m(\u001b[49m\u001b[38;5;124;43m'\u001b[39;49m\u001b[38;5;124;43mmerge_rating_lg.xlsx\u001b[39;49m\u001b[38;5;124;43m'\u001b[39;49m\u001b[43m,\u001b[49m\u001b[43m \u001b[49m\u001b[43mindex\u001b[49m\u001b[38;5;241;43m=\u001b[39;49m\u001b[38;5;28;43;01mFalse\u001b[39;49;00m\u001b[43m)\u001b[49m\n",
      "File \u001b[1;32m~\\AppData\\Roaming\\Python\\Python313\\site-packages\\pandas\\util\\_decorators.py:333\u001b[0m, in \u001b[0;36mdeprecate_nonkeyword_arguments.<locals>.decorate.<locals>.wrapper\u001b[1;34m(*args, **kwargs)\u001b[0m\n\u001b[0;32m    327\u001b[0m \u001b[38;5;28;01mif\u001b[39;00m \u001b[38;5;28mlen\u001b[39m(args) \u001b[38;5;241m>\u001b[39m num_allow_args:\n\u001b[0;32m    328\u001b[0m     warnings\u001b[38;5;241m.\u001b[39mwarn(\n\u001b[0;32m    329\u001b[0m         msg\u001b[38;5;241m.\u001b[39mformat(arguments\u001b[38;5;241m=\u001b[39m_format_argument_list(allow_args)),\n\u001b[0;32m    330\u001b[0m         \u001b[38;5;167;01mFutureWarning\u001b[39;00m,\n\u001b[0;32m    331\u001b[0m         stacklevel\u001b[38;5;241m=\u001b[39mfind_stack_level(),\n\u001b[0;32m    332\u001b[0m     )\n\u001b[1;32m--> 333\u001b[0m \u001b[38;5;28;01mreturn\u001b[39;00m \u001b[43mfunc\u001b[49m\u001b[43m(\u001b[49m\u001b[38;5;241;43m*\u001b[39;49m\u001b[43margs\u001b[49m\u001b[43m,\u001b[49m\u001b[43m \u001b[49m\u001b[38;5;241;43m*\u001b[39;49m\u001b[38;5;241;43m*\u001b[39;49m\u001b[43mkwargs\u001b[49m\u001b[43m)\u001b[49m\n",
      "File \u001b[1;32m~\\AppData\\Roaming\\Python\\Python313\\site-packages\\pandas\\core\\generic.py:2417\u001b[0m, in \u001b[0;36mNDFrame.to_excel\u001b[1;34m(self, excel_writer, sheet_name, na_rep, float_format, columns, header, index, index_label, startrow, startcol, engine, merge_cells, inf_rep, freeze_panes, storage_options, engine_kwargs)\u001b[0m\n\u001b[0;32m   2404\u001b[0m \u001b[38;5;28;01mfrom\u001b[39;00m \u001b[38;5;21;01mpandas\u001b[39;00m\u001b[38;5;21;01m.\u001b[39;00m\u001b[38;5;21;01mio\u001b[39;00m\u001b[38;5;21;01m.\u001b[39;00m\u001b[38;5;21;01mformats\u001b[39;00m\u001b[38;5;21;01m.\u001b[39;00m\u001b[38;5;21;01mexcel\u001b[39;00m \u001b[38;5;28;01mimport\u001b[39;00m ExcelFormatter\n\u001b[0;32m   2406\u001b[0m formatter \u001b[38;5;241m=\u001b[39m ExcelFormatter(\n\u001b[0;32m   2407\u001b[0m     df,\n\u001b[0;32m   2408\u001b[0m     na_rep\u001b[38;5;241m=\u001b[39mna_rep,\n\u001b[1;32m   (...)\u001b[0m\n\u001b[0;32m   2415\u001b[0m     inf_rep\u001b[38;5;241m=\u001b[39minf_rep,\n\u001b[0;32m   2416\u001b[0m )\n\u001b[1;32m-> 2417\u001b[0m \u001b[43mformatter\u001b[49m\u001b[38;5;241;43m.\u001b[39;49m\u001b[43mwrite\u001b[49m\u001b[43m(\u001b[49m\n\u001b[0;32m   2418\u001b[0m \u001b[43m    \u001b[49m\u001b[43mexcel_writer\u001b[49m\u001b[43m,\u001b[49m\n\u001b[0;32m   2419\u001b[0m \u001b[43m    \u001b[49m\u001b[43msheet_name\u001b[49m\u001b[38;5;241;43m=\u001b[39;49m\u001b[43msheet_name\u001b[49m\u001b[43m,\u001b[49m\n\u001b[0;32m   2420\u001b[0m \u001b[43m    \u001b[49m\u001b[43mstartrow\u001b[49m\u001b[38;5;241;43m=\u001b[39;49m\u001b[43mstartrow\u001b[49m\u001b[43m,\u001b[49m\n\u001b[0;32m   2421\u001b[0m \u001b[43m    \u001b[49m\u001b[43mstartcol\u001b[49m\u001b[38;5;241;43m=\u001b[39;49m\u001b[43mstartcol\u001b[49m\u001b[43m,\u001b[49m\n\u001b[0;32m   2422\u001b[0m \u001b[43m    \u001b[49m\u001b[43mfreeze_panes\u001b[49m\u001b[38;5;241;43m=\u001b[39;49m\u001b[43mfreeze_panes\u001b[49m\u001b[43m,\u001b[49m\n\u001b[0;32m   2423\u001b[0m \u001b[43m    \u001b[49m\u001b[43mengine\u001b[49m\u001b[38;5;241;43m=\u001b[39;49m\u001b[43mengine\u001b[49m\u001b[43m,\u001b[49m\n\u001b[0;32m   2424\u001b[0m \u001b[43m    \u001b[49m\u001b[43mstorage_options\u001b[49m\u001b[38;5;241;43m=\u001b[39;49m\u001b[43mstorage_options\u001b[49m\u001b[43m,\u001b[49m\n\u001b[0;32m   2425\u001b[0m \u001b[43m    \u001b[49m\u001b[43mengine_kwargs\u001b[49m\u001b[38;5;241;43m=\u001b[39;49m\u001b[43mengine_kwargs\u001b[49m\u001b[43m,\u001b[49m\n\u001b[0;32m   2426\u001b[0m \u001b[43m\u001b[49m\u001b[43m)\u001b[49m\n",
      "File \u001b[1;32m~\\AppData\\Roaming\\Python\\Python313\\site-packages\\pandas\\io\\formats\\excel.py:943\u001b[0m, in \u001b[0;36mExcelFormatter.write\u001b[1;34m(self, writer, sheet_name, startrow, startcol, freeze_panes, engine, storage_options, engine_kwargs)\u001b[0m\n\u001b[0;32m    941\u001b[0m     need_save \u001b[38;5;241m=\u001b[39m \u001b[38;5;28;01mFalse\u001b[39;00m\n\u001b[0;32m    942\u001b[0m \u001b[38;5;28;01melse\u001b[39;00m:\n\u001b[1;32m--> 943\u001b[0m     writer \u001b[38;5;241m=\u001b[39m \u001b[43mExcelWriter\u001b[49m\u001b[43m(\u001b[49m\n\u001b[0;32m    944\u001b[0m \u001b[43m        \u001b[49m\u001b[43mwriter\u001b[49m\u001b[43m,\u001b[49m\n\u001b[0;32m    945\u001b[0m \u001b[43m        \u001b[49m\u001b[43mengine\u001b[49m\u001b[38;5;241;43m=\u001b[39;49m\u001b[43mengine\u001b[49m\u001b[43m,\u001b[49m\n\u001b[0;32m    946\u001b[0m \u001b[43m        \u001b[49m\u001b[43mstorage_options\u001b[49m\u001b[38;5;241;43m=\u001b[39;49m\u001b[43mstorage_options\u001b[49m\u001b[43m,\u001b[49m\n\u001b[0;32m    947\u001b[0m \u001b[43m        \u001b[49m\u001b[43mengine_kwargs\u001b[49m\u001b[38;5;241;43m=\u001b[39;49m\u001b[43mengine_kwargs\u001b[49m\u001b[43m,\u001b[49m\n\u001b[0;32m    948\u001b[0m \u001b[43m    \u001b[49m\u001b[43m)\u001b[49m\n\u001b[0;32m    949\u001b[0m     need_save \u001b[38;5;241m=\u001b[39m \u001b[38;5;28;01mTrue\u001b[39;00m\n\u001b[0;32m    951\u001b[0m \u001b[38;5;28;01mtry\u001b[39;00m:\n",
      "File \u001b[1;32m~\\AppData\\Roaming\\Python\\Python313\\site-packages\\pandas\\io\\excel\\_openpyxl.py:61\u001b[0m, in \u001b[0;36mOpenpyxlWriter.__init__\u001b[1;34m(self, path, engine, date_format, datetime_format, mode, storage_options, if_sheet_exists, engine_kwargs, **kwargs)\u001b[0m\n\u001b[0;32m     57\u001b[0m \u001b[38;5;28;01mfrom\u001b[39;00m \u001b[38;5;21;01mopenpyxl\u001b[39;00m\u001b[38;5;21;01m.\u001b[39;00m\u001b[38;5;21;01mworkbook\u001b[39;00m \u001b[38;5;28;01mimport\u001b[39;00m Workbook\n\u001b[0;32m     59\u001b[0m engine_kwargs \u001b[38;5;241m=\u001b[39m combine_kwargs(engine_kwargs, kwargs)\n\u001b[1;32m---> 61\u001b[0m \u001b[38;5;28;43msuper\u001b[39;49m\u001b[43m(\u001b[49m\u001b[43m)\u001b[49m\u001b[38;5;241;43m.\u001b[39;49m\u001b[38;5;21;43m__init__\u001b[39;49m\u001b[43m(\u001b[49m\n\u001b[0;32m     62\u001b[0m \u001b[43m    \u001b[49m\u001b[43mpath\u001b[49m\u001b[43m,\u001b[49m\n\u001b[0;32m     63\u001b[0m \u001b[43m    \u001b[49m\u001b[43mmode\u001b[49m\u001b[38;5;241;43m=\u001b[39;49m\u001b[43mmode\u001b[49m\u001b[43m,\u001b[49m\n\u001b[0;32m     64\u001b[0m \u001b[43m    \u001b[49m\u001b[43mstorage_options\u001b[49m\u001b[38;5;241;43m=\u001b[39;49m\u001b[43mstorage_options\u001b[49m\u001b[43m,\u001b[49m\n\u001b[0;32m     65\u001b[0m \u001b[43m    \u001b[49m\u001b[43mif_sheet_exists\u001b[49m\u001b[38;5;241;43m=\u001b[39;49m\u001b[43mif_sheet_exists\u001b[49m\u001b[43m,\u001b[49m\n\u001b[0;32m     66\u001b[0m \u001b[43m    \u001b[49m\u001b[43mengine_kwargs\u001b[49m\u001b[38;5;241;43m=\u001b[39;49m\u001b[43mengine_kwargs\u001b[49m\u001b[43m,\u001b[49m\n\u001b[0;32m     67\u001b[0m \u001b[43m\u001b[49m\u001b[43m)\u001b[49m\n\u001b[0;32m     69\u001b[0m \u001b[38;5;66;03m# ExcelWriter replaced \"a\" by \"r+\" to allow us to first read the excel file from\u001b[39;00m\n\u001b[0;32m     70\u001b[0m \u001b[38;5;66;03m# the file and later write to it\u001b[39;00m\n\u001b[0;32m     71\u001b[0m \u001b[38;5;28;01mif\u001b[39;00m \u001b[38;5;124m\"\u001b[39m\u001b[38;5;124mr+\u001b[39m\u001b[38;5;124m\"\u001b[39m \u001b[38;5;129;01min\u001b[39;00m \u001b[38;5;28mself\u001b[39m\u001b[38;5;241m.\u001b[39m_mode:  \u001b[38;5;66;03m# Load from existing workbook\u001b[39;00m\n",
      "File \u001b[1;32m~\\AppData\\Roaming\\Python\\Python313\\site-packages\\pandas\\io\\excel\\_base.py:1246\u001b[0m, in \u001b[0;36mExcelWriter.__init__\u001b[1;34m(self, path, engine, date_format, datetime_format, mode, storage_options, if_sheet_exists, engine_kwargs)\u001b[0m\n\u001b[0;32m   1242\u001b[0m \u001b[38;5;28mself\u001b[39m\u001b[38;5;241m.\u001b[39m_handles \u001b[38;5;241m=\u001b[39m IOHandles(\n\u001b[0;32m   1243\u001b[0m     cast(IO[\u001b[38;5;28mbytes\u001b[39m], path), compression\u001b[38;5;241m=\u001b[39m{\u001b[38;5;124m\"\u001b[39m\u001b[38;5;124mcompression\u001b[39m\u001b[38;5;124m\"\u001b[39m: \u001b[38;5;28;01mNone\u001b[39;00m}\n\u001b[0;32m   1244\u001b[0m )\n\u001b[0;32m   1245\u001b[0m \u001b[38;5;28;01mif\u001b[39;00m \u001b[38;5;129;01mnot\u001b[39;00m \u001b[38;5;28misinstance\u001b[39m(path, ExcelWriter):\n\u001b[1;32m-> 1246\u001b[0m     \u001b[38;5;28mself\u001b[39m\u001b[38;5;241m.\u001b[39m_handles \u001b[38;5;241m=\u001b[39m \u001b[43mget_handle\u001b[49m\u001b[43m(\u001b[49m\n\u001b[0;32m   1247\u001b[0m \u001b[43m        \u001b[49m\u001b[43mpath\u001b[49m\u001b[43m,\u001b[49m\u001b[43m \u001b[49m\u001b[43mmode\u001b[49m\u001b[43m,\u001b[49m\u001b[43m \u001b[49m\u001b[43mstorage_options\u001b[49m\u001b[38;5;241;43m=\u001b[39;49m\u001b[43mstorage_options\u001b[49m\u001b[43m,\u001b[49m\u001b[43m \u001b[49m\u001b[43mis_text\u001b[49m\u001b[38;5;241;43m=\u001b[39;49m\u001b[38;5;28;43;01mFalse\u001b[39;49;00m\n\u001b[0;32m   1248\u001b[0m \u001b[43m    \u001b[49m\u001b[43m)\u001b[49m\n\u001b[0;32m   1249\u001b[0m \u001b[38;5;28mself\u001b[39m\u001b[38;5;241m.\u001b[39m_cur_sheet \u001b[38;5;241m=\u001b[39m \u001b[38;5;28;01mNone\u001b[39;00m\n\u001b[0;32m   1251\u001b[0m \u001b[38;5;28;01mif\u001b[39;00m date_format \u001b[38;5;129;01mis\u001b[39;00m \u001b[38;5;28;01mNone\u001b[39;00m:\n",
      "File \u001b[1;32m~\\AppData\\Roaming\\Python\\Python313\\site-packages\\pandas\\io\\common.py:882\u001b[0m, in \u001b[0;36mget_handle\u001b[1;34m(path_or_buf, mode, encoding, compression, memory_map, is_text, errors, storage_options)\u001b[0m\n\u001b[0;32m    873\u001b[0m         handle \u001b[38;5;241m=\u001b[39m \u001b[38;5;28mopen\u001b[39m(\n\u001b[0;32m    874\u001b[0m             handle,\n\u001b[0;32m    875\u001b[0m             ioargs\u001b[38;5;241m.\u001b[39mmode,\n\u001b[1;32m   (...)\u001b[0m\n\u001b[0;32m    878\u001b[0m             newline\u001b[38;5;241m=\u001b[39m\u001b[38;5;124m\"\u001b[39m\u001b[38;5;124m\"\u001b[39m,\n\u001b[0;32m    879\u001b[0m         )\n\u001b[0;32m    880\u001b[0m     \u001b[38;5;28;01melse\u001b[39;00m:\n\u001b[0;32m    881\u001b[0m         \u001b[38;5;66;03m# Binary mode\u001b[39;00m\n\u001b[1;32m--> 882\u001b[0m         handle \u001b[38;5;241m=\u001b[39m \u001b[38;5;28;43mopen\u001b[39;49m\u001b[43m(\u001b[49m\u001b[43mhandle\u001b[49m\u001b[43m,\u001b[49m\u001b[43m \u001b[49m\u001b[43mioargs\u001b[49m\u001b[38;5;241;43m.\u001b[39;49m\u001b[43mmode\u001b[49m\u001b[43m)\u001b[49m\n\u001b[0;32m    883\u001b[0m     handles\u001b[38;5;241m.\u001b[39mappend(handle)\n\u001b[0;32m    885\u001b[0m \u001b[38;5;66;03m# Convert BytesIO or file objects passed with an encoding\u001b[39;00m\n",
      "\u001b[1;31mPermissionError\u001b[0m: [Errno 13] Permission denied: 'merge_rating_lg.xlsx'"
     ]
    }
   ],
   "source": [
    "df_ratings_merge_basics_ss_short.to_excel('merge_rating_lg.xlsx', index=False)"
   ]
  },
  {
   "cell_type": "code",
   "execution_count": null,
   "metadata": {},
   "outputs": [
    {
     "ename": "NameError",
     "evalue": "name 'df_ratings_merge_basics_ss_short' is not defined",
     "output_type": "error",
     "traceback": [
      "\u001b[0;31m---------------------------------------------------------------------------\u001b[0m",
      "\u001b[0;31mNameError\u001b[0m                                 Traceback (most recent call last)",
      "Cell \u001b[0;32mIn[3], line 1\u001b[0m\n\u001b[0;32m----> 1\u001b[0m \u001b[43mdf_ratings_merge_basics_ss_short\u001b[49m\u001b[38;5;241m.\u001b[39mhead(\u001b[38;5;241m10\u001b[39m)\n\u001b[1;32m      3\u001b[0m \u001b[38;5;66;03m#exploded genre\u001b[39;00m\n\u001b[1;32m      5\u001b[0m df_exploded \u001b[38;5;241m=\u001b[39m df_ratings_merge_basics_ss_short\u001b[38;5;241m.\u001b[39massign(genres\u001b[38;5;241m=\u001b[39mdf_ratings_merge_basics_ss_short[\u001b[38;5;124m'\u001b[39m\u001b[38;5;124mgenres\u001b[39m\u001b[38;5;124m'\u001b[39m]\u001b[38;5;241m.\u001b[39mstr\u001b[38;5;241m.\u001b[39msplit(\u001b[38;5;124m'\u001b[39m\u001b[38;5;124m,\u001b[39m\u001b[38;5;124m'\u001b[39m))\u001b[38;5;241m.\u001b[39mexplode(\u001b[38;5;124m'\u001b[39m\u001b[38;5;124mgenres\u001b[39m\u001b[38;5;124m'\u001b[39m)\n",
      "\u001b[0;31mNameError\u001b[0m: name 'df_ratings_merge_basics_ss_short' is not defined"
     ]
    }
   ],
   "source": [
    "df_ratings_merge_basics_ss_short.head(10)\n",
    "\n",
    "#exploded genre\n",
    "\n",
    "df_exploded = df_ratings_merge_basics_ss_short.assign(genres=df_ratings_merge_basics_ss_short['genres'].str.split(',')).explode('genres')\n",
    "\n",
    "df_exploded['genres'].value_counts()\n",
    "\n",
    "df_pivot_exploded = df_exploded.pivot_table(columns='bucket 5', index='genres', aggfunc='count', values='originalTitle')\n",
    "\n",
    "df_pivot_exploded"
   ]
  },
  {
   "cell_type": "code",
   "execution_count": null,
   "metadata": {},
   "outputs": [],
   "source": [
    "df_pivot_exploded_fill_na = df_pivot_exploded.fillna(0)"
   ]
  },
  {
   "cell_type": "code",
   "execution_count": null,
   "metadata": {},
   "outputs": [
    {
     "data": {
      "text/html": [
       "<div>\n",
       "<style scoped>\n",
       "    .dataframe tbody tr th:only-of-type {\n",
       "        vertical-align: middle;\n",
       "    }\n",
       "\n",
       "    .dataframe tbody tr th {\n",
       "        vertical-align: top;\n",
       "    }\n",
       "\n",
       "    .dataframe thead th {\n",
       "        text-align: right;\n",
       "    }\n",
       "</style>\n",
       "<table border=\"1\" class=\"dataframe\">\n",
       "  <thead>\n",
       "    <tr style=\"text-align: right;\">\n",
       "      <th>bucket 10</th>\n",
       "      <th>1910</th>\n",
       "      <th>1920</th>\n",
       "      <th>1930</th>\n",
       "      <th>1940</th>\n",
       "      <th>1950</th>\n",
       "      <th>1960</th>\n",
       "      <th>1970</th>\n",
       "      <th>1980</th>\n",
       "      <th>1990</th>\n",
       "      <th>2000</th>\n",
       "      <th>2010</th>\n",
       "      <th>2020</th>\n",
       "    </tr>\n",
       "    <tr>\n",
       "      <th>genres</th>\n",
       "      <th></th>\n",
       "      <th></th>\n",
       "      <th></th>\n",
       "      <th></th>\n",
       "      <th></th>\n",
       "      <th></th>\n",
       "      <th></th>\n",
       "      <th></th>\n",
       "      <th></th>\n",
       "      <th></th>\n",
       "      <th></th>\n",
       "      <th></th>\n",
       "    </tr>\n",
       "  </thead>\n",
       "  <tbody>\n",
       "    <tr>\n",
       "      <th>Action</th>\n",
       "      <td>2.0</td>\n",
       "      <td>13.0</td>\n",
       "      <td>18.0</td>\n",
       "      <td>26.0</td>\n",
       "      <td>36.0</td>\n",
       "      <td>88.0</td>\n",
       "      <td>131.0</td>\n",
       "      <td>151.0</td>\n",
       "      <td>225.0</td>\n",
       "      <td>413.0</td>\n",
       "      <td>610.0</td>\n",
       "      <td>308.0</td>\n",
       "    </tr>\n",
       "    <tr>\n",
       "      <th>Adventure</th>\n",
       "      <td>5.0</td>\n",
       "      <td>19.0</td>\n",
       "      <td>48.0</td>\n",
       "      <td>41.0</td>\n",
       "      <td>63.0</td>\n",
       "      <td>111.0</td>\n",
       "      <td>109.0</td>\n",
       "      <td>149.0</td>\n",
       "      <td>140.0</td>\n",
       "      <td>234.0</td>\n",
       "      <td>376.0</td>\n",
       "      <td>139.0</td>\n",
       "    </tr>\n",
       "    <tr>\n",
       "      <th>Animation</th>\n",
       "      <td>0.0</td>\n",
       "      <td>1.0</td>\n",
       "      <td>2.0</td>\n",
       "      <td>7.0</td>\n",
       "      <td>8.0</td>\n",
       "      <td>15.0</td>\n",
       "      <td>42.0</td>\n",
       "      <td>75.0</td>\n",
       "      <td>83.0</td>\n",
       "      <td>153.0</td>\n",
       "      <td>261.0</td>\n",
       "      <td>115.0</td>\n",
       "    </tr>\n",
       "    <tr>\n",
       "      <th>Biography</th>\n",
       "      <td>0.0</td>\n",
       "      <td>3.0</td>\n",
       "      <td>17.0</td>\n",
       "      <td>25.0</td>\n",
       "      <td>41.0</td>\n",
       "      <td>43.0</td>\n",
       "      <td>59.0</td>\n",
       "      <td>89.0</td>\n",
       "      <td>136.0</td>\n",
       "      <td>270.0</td>\n",
       "      <td>608.0</td>\n",
       "      <td>210.0</td>\n",
       "    </tr>\n",
       "    <tr>\n",
       "      <th>Comedy</th>\n",
       "      <td>4.0</td>\n",
       "      <td>44.0</td>\n",
       "      <td>148.0</td>\n",
       "      <td>130.0</td>\n",
       "      <td>162.0</td>\n",
       "      <td>265.0</td>\n",
       "      <td>356.0</td>\n",
       "      <td>451.0</td>\n",
       "      <td>569.0</td>\n",
       "      <td>754.0</td>\n",
       "      <td>951.0</td>\n",
       "      <td>446.0</td>\n",
       "    </tr>\n",
       "    <tr>\n",
       "      <th>Crime</th>\n",
       "      <td>6.0</td>\n",
       "      <td>13.0</td>\n",
       "      <td>74.0</td>\n",
       "      <td>124.0</td>\n",
       "      <td>143.0</td>\n",
       "      <td>133.0</td>\n",
       "      <td>185.0</td>\n",
       "      <td>183.0</td>\n",
       "      <td>305.0</td>\n",
       "      <td>464.0</td>\n",
       "      <td>594.0</td>\n",
       "      <td>273.0</td>\n",
       "    </tr>\n",
       "    <tr>\n",
       "      <th>Documentary</th>\n",
       "      <td>0.0</td>\n",
       "      <td>7.0</td>\n",
       "      <td>4.0</td>\n",
       "      <td>5.0</td>\n",
       "      <td>6.0</td>\n",
       "      <td>20.0</td>\n",
       "      <td>47.0</td>\n",
       "      <td>58.0</td>\n",
       "      <td>74.0</td>\n",
       "      <td>394.0</td>\n",
       "      <td>908.0</td>\n",
       "      <td>347.0</td>\n",
       "    </tr>\n",
       "    <tr>\n",
       "      <th>Drama</th>\n",
       "      <td>18.0</td>\n",
       "      <td>100.0</td>\n",
       "      <td>259.0</td>\n",
       "      <td>372.0</td>\n",
       "      <td>520.0</td>\n",
       "      <td>663.0</td>\n",
       "      <td>702.0</td>\n",
       "      <td>777.0</td>\n",
       "      <td>1157.0</td>\n",
       "      <td>1984.0</td>\n",
       "      <td>2520.0</td>\n",
       "      <td>1133.0</td>\n",
       "    </tr>\n",
       "    <tr>\n",
       "      <th>Family</th>\n",
       "      <td>1.0</td>\n",
       "      <td>13.0</td>\n",
       "      <td>37.0</td>\n",
       "      <td>35.0</td>\n",
       "      <td>37.0</td>\n",
       "      <td>42.0</td>\n",
       "      <td>66.0</td>\n",
       "      <td>62.0</td>\n",
       "      <td>52.0</td>\n",
       "      <td>100.0</td>\n",
       "      <td>166.0</td>\n",
       "      <td>91.0</td>\n",
       "    </tr>\n",
       "    <tr>\n",
       "      <th>Fantasy</th>\n",
       "      <td>3.0</td>\n",
       "      <td>13.0</td>\n",
       "      <td>14.0</td>\n",
       "      <td>37.0</td>\n",
       "      <td>29.0</td>\n",
       "      <td>25.0</td>\n",
       "      <td>45.0</td>\n",
       "      <td>68.0</td>\n",
       "      <td>82.0</td>\n",
       "      <td>100.0</td>\n",
       "      <td>132.0</td>\n",
       "      <td>56.0</td>\n",
       "    </tr>\n",
       "    <tr>\n",
       "      <th>Film-Noir</th>\n",
       "      <td>0.0</td>\n",
       "      <td>2.0</td>\n",
       "      <td>16.0</td>\n",
       "      <td>114.0</td>\n",
       "      <td>84.0</td>\n",
       "      <td>0.0</td>\n",
       "      <td>0.0</td>\n",
       "      <td>0.0</td>\n",
       "      <td>0.0</td>\n",
       "      <td>0.0</td>\n",
       "      <td>0.0</td>\n",
       "      <td>0.0</td>\n",
       "    </tr>\n",
       "    <tr>\n",
       "      <th>History</th>\n",
       "      <td>4.0</td>\n",
       "      <td>7.0</td>\n",
       "      <td>21.0</td>\n",
       "      <td>24.0</td>\n",
       "      <td>28.0</td>\n",
       "      <td>59.0</td>\n",
       "      <td>67.0</td>\n",
       "      <td>83.0</td>\n",
       "      <td>85.0</td>\n",
       "      <td>176.0</td>\n",
       "      <td>320.0</td>\n",
       "      <td>117.0</td>\n",
       "    </tr>\n",
       "    <tr>\n",
       "      <th>Horror</th>\n",
       "      <td>1.0</td>\n",
       "      <td>22.0</td>\n",
       "      <td>18.0</td>\n",
       "      <td>23.0</td>\n",
       "      <td>17.0</td>\n",
       "      <td>44.0</td>\n",
       "      <td>49.0</td>\n",
       "      <td>47.0</td>\n",
       "      <td>39.0</td>\n",
       "      <td>55.0</td>\n",
       "      <td>73.0</td>\n",
       "      <td>60.0</td>\n",
       "    </tr>\n",
       "    <tr>\n",
       "      <th>Music</th>\n",
       "      <td>0.0</td>\n",
       "      <td>0.0</td>\n",
       "      <td>7.0</td>\n",
       "      <td>13.0</td>\n",
       "      <td>19.0</td>\n",
       "      <td>13.0</td>\n",
       "      <td>43.0</td>\n",
       "      <td>75.0</td>\n",
       "      <td>69.0</td>\n",
       "      <td>153.0</td>\n",
       "      <td>215.0</td>\n",
       "      <td>82.0</td>\n",
       "    </tr>\n",
       "    <tr>\n",
       "      <th>Musical</th>\n",
       "      <td>0.0</td>\n",
       "      <td>2.0</td>\n",
       "      <td>35.0</td>\n",
       "      <td>19.0</td>\n",
       "      <td>38.0</td>\n",
       "      <td>28.0</td>\n",
       "      <td>33.0</td>\n",
       "      <td>29.0</td>\n",
       "      <td>27.0</td>\n",
       "      <td>40.0</td>\n",
       "      <td>40.0</td>\n",
       "      <td>18.0</td>\n",
       "    </tr>\n",
       "    <tr>\n",
       "      <th>Mystery</th>\n",
       "      <td>1.0</td>\n",
       "      <td>9.0</td>\n",
       "      <td>35.0</td>\n",
       "      <td>56.0</td>\n",
       "      <td>42.0</td>\n",
       "      <td>62.0</td>\n",
       "      <td>76.0</td>\n",
       "      <td>55.0</td>\n",
       "      <td>97.0</td>\n",
       "      <td>154.0</td>\n",
       "      <td>224.0</td>\n",
       "      <td>106.0</td>\n",
       "    </tr>\n",
       "    <tr>\n",
       "      <th>News</th>\n",
       "      <td>0.0</td>\n",
       "      <td>0.0</td>\n",
       "      <td>0.0</td>\n",
       "      <td>0.0</td>\n",
       "      <td>0.0</td>\n",
       "      <td>1.0</td>\n",
       "      <td>0.0</td>\n",
       "      <td>0.0</td>\n",
       "      <td>0.0</td>\n",
       "      <td>4.0</td>\n",
       "      <td>22.0</td>\n",
       "      <td>1.0</td>\n",
       "    </tr>\n",
       "    <tr>\n",
       "      <th>Romance</th>\n",
       "      <td>4.0</td>\n",
       "      <td>54.0</td>\n",
       "      <td>156.0</td>\n",
       "      <td>154.0</td>\n",
       "      <td>166.0</td>\n",
       "      <td>170.0</td>\n",
       "      <td>147.0</td>\n",
       "      <td>191.0</td>\n",
       "      <td>301.0</td>\n",
       "      <td>517.0</td>\n",
       "      <td>534.0</td>\n",
       "      <td>261.0</td>\n",
       "    </tr>\n",
       "    <tr>\n",
       "      <th>Sci-Fi</th>\n",
       "      <td>1.0</td>\n",
       "      <td>3.0</td>\n",
       "      <td>8.0</td>\n",
       "      <td>0.0</td>\n",
       "      <td>16.0</td>\n",
       "      <td>14.0</td>\n",
       "      <td>25.0</td>\n",
       "      <td>51.0</td>\n",
       "      <td>33.0</td>\n",
       "      <td>52.0</td>\n",
       "      <td>89.0</td>\n",
       "      <td>26.0</td>\n",
       "    </tr>\n",
       "    <tr>\n",
       "      <th>Sport</th>\n",
       "      <td>0.0</td>\n",
       "      <td>2.0</td>\n",
       "      <td>3.0</td>\n",
       "      <td>5.0</td>\n",
       "      <td>7.0</td>\n",
       "      <td>9.0</td>\n",
       "      <td>19.0</td>\n",
       "      <td>15.0</td>\n",
       "      <td>34.0</td>\n",
       "      <td>77.0</td>\n",
       "      <td>151.0</td>\n",
       "      <td>62.0</td>\n",
       "    </tr>\n",
       "    <tr>\n",
       "      <th>Thriller</th>\n",
       "      <td>0.0</td>\n",
       "      <td>11.0</td>\n",
       "      <td>14.0</td>\n",
       "      <td>35.0</td>\n",
       "      <td>50.0</td>\n",
       "      <td>82.0</td>\n",
       "      <td>105.0</td>\n",
       "      <td>76.0</td>\n",
       "      <td>140.0</td>\n",
       "      <td>226.0</td>\n",
       "      <td>368.0</td>\n",
       "      <td>270.0</td>\n",
       "    </tr>\n",
       "    <tr>\n",
       "      <th>War</th>\n",
       "      <td>2.0</td>\n",
       "      <td>5.0</td>\n",
       "      <td>19.0</td>\n",
       "      <td>54.0</td>\n",
       "      <td>64.0</td>\n",
       "      <td>83.0</td>\n",
       "      <td>55.0</td>\n",
       "      <td>41.0</td>\n",
       "      <td>66.0</td>\n",
       "      <td>113.0</td>\n",
       "      <td>98.0</td>\n",
       "      <td>27.0</td>\n",
       "    </tr>\n",
       "    <tr>\n",
       "      <th>Western</th>\n",
       "      <td>0.0</td>\n",
       "      <td>6.0</td>\n",
       "      <td>7.0</td>\n",
       "      <td>18.0</td>\n",
       "      <td>51.0</td>\n",
       "      <td>38.0</td>\n",
       "      <td>29.0</td>\n",
       "      <td>4.0</td>\n",
       "      <td>9.0</td>\n",
       "      <td>10.0</td>\n",
       "      <td>17.0</td>\n",
       "      <td>1.0</td>\n",
       "    </tr>\n",
       "  </tbody>\n",
       "</table>\n",
       "</div>"
      ],
      "text/plain": [
       "bucket 10    1910   1920   1930   1940   1950   1960   1970   1980    1990  \\\n",
       "genres                                                                       \n",
       "Action        2.0   13.0   18.0   26.0   36.0   88.0  131.0  151.0   225.0   \n",
       "Adventure     5.0   19.0   48.0   41.0   63.0  111.0  109.0  149.0   140.0   \n",
       "Animation     0.0    1.0    2.0    7.0    8.0   15.0   42.0   75.0    83.0   \n",
       "Biography     0.0    3.0   17.0   25.0   41.0   43.0   59.0   89.0   136.0   \n",
       "Comedy        4.0   44.0  148.0  130.0  162.0  265.0  356.0  451.0   569.0   \n",
       "Crime         6.0   13.0   74.0  124.0  143.0  133.0  185.0  183.0   305.0   \n",
       "Documentary   0.0    7.0    4.0    5.0    6.0   20.0   47.0   58.0    74.0   \n",
       "Drama        18.0  100.0  259.0  372.0  520.0  663.0  702.0  777.0  1157.0   \n",
       "Family        1.0   13.0   37.0   35.0   37.0   42.0   66.0   62.0    52.0   \n",
       "Fantasy       3.0   13.0   14.0   37.0   29.0   25.0   45.0   68.0    82.0   \n",
       "Film-Noir     0.0    2.0   16.0  114.0   84.0    0.0    0.0    0.0     0.0   \n",
       "History       4.0    7.0   21.0   24.0   28.0   59.0   67.0   83.0    85.0   \n",
       "Horror        1.0   22.0   18.0   23.0   17.0   44.0   49.0   47.0    39.0   \n",
       "Music         0.0    0.0    7.0   13.0   19.0   13.0   43.0   75.0    69.0   \n",
       "Musical       0.0    2.0   35.0   19.0   38.0   28.0   33.0   29.0    27.0   \n",
       "Mystery       1.0    9.0   35.0   56.0   42.0   62.0   76.0   55.0    97.0   \n",
       "News          0.0    0.0    0.0    0.0    0.0    1.0    0.0    0.0     0.0   \n",
       "Romance       4.0   54.0  156.0  154.0  166.0  170.0  147.0  191.0   301.0   \n",
       "Sci-Fi        1.0    3.0    8.0    0.0   16.0   14.0   25.0   51.0    33.0   \n",
       "Sport         0.0    2.0    3.0    5.0    7.0    9.0   19.0   15.0    34.0   \n",
       "Thriller      0.0   11.0   14.0   35.0   50.0   82.0  105.0   76.0   140.0   \n",
       "War           2.0    5.0   19.0   54.0   64.0   83.0   55.0   41.0    66.0   \n",
       "Western       0.0    6.0    7.0   18.0   51.0   38.0   29.0    4.0     9.0   \n",
       "\n",
       "bucket 10      2000    2010    2020  \n",
       "genres                               \n",
       "Action        413.0   610.0   308.0  \n",
       "Adventure     234.0   376.0   139.0  \n",
       "Animation     153.0   261.0   115.0  \n",
       "Biography     270.0   608.0   210.0  \n",
       "Comedy        754.0   951.0   446.0  \n",
       "Crime         464.0   594.0   273.0  \n",
       "Documentary   394.0   908.0   347.0  \n",
       "Drama        1984.0  2520.0  1133.0  \n",
       "Family        100.0   166.0    91.0  \n",
       "Fantasy       100.0   132.0    56.0  \n",
       "Film-Noir       0.0     0.0     0.0  \n",
       "History       176.0   320.0   117.0  \n",
       "Horror         55.0    73.0    60.0  \n",
       "Music         153.0   215.0    82.0  \n",
       "Musical        40.0    40.0    18.0  \n",
       "Mystery       154.0   224.0   106.0  \n",
       "News            4.0    22.0     1.0  \n",
       "Romance       517.0   534.0   261.0  \n",
       "Sci-Fi         52.0    89.0    26.0  \n",
       "Sport          77.0   151.0    62.0  \n",
       "Thriller      226.0   368.0   270.0  \n",
       "War           113.0    98.0    27.0  \n",
       "Western        10.0    17.0     1.0  "
      ]
     },
     "execution_count": 171,
     "metadata": {},
     "output_type": "execute_result"
    }
   ],
   "source": [
    "\n",
    "df_pivot_exploded_fill_na"
   ]
  },
  {
   "cell_type": "code",
   "execution_count": null,
   "metadata": {},
   "outputs": [
    {
     "data": {
      "application/vnd.plotly.v1+json": {
       "config": {
        "plotlyServerURL": "https://plot.ly"
       },
       "data": [
        {
         "hovertemplate": "genres=Action<br>year=%{x}<br>count=%{y}<extra></extra>",
         "legendgroup": "Action",
         "line": {
          "color": "#636efa",
          "dash": "solid"
         },
         "marker": {
          "symbol": "circle"
         },
         "mode": "lines",
         "name": "Action",
         "orientation": "v",
         "showlegend": true,
         "type": "scatter",
         "x": [
          "1910",
          "1920",
          "1930",
          "1940",
          "1950",
          "1960",
          "1970",
          "1980",
          "1990",
          "2000",
          "2010",
          "2020"
         ],
         "xaxis": "x",
         "y": [
          2,
          13,
          18,
          26,
          36,
          88,
          131,
          151,
          225,
          413,
          610,
          308
         ],
         "yaxis": "y"
        },
        {
         "hovertemplate": "genres=Adventure<br>year=%{x}<br>count=%{y}<extra></extra>",
         "legendgroup": "Adventure",
         "line": {
          "color": "#EF553B",
          "dash": "solid"
         },
         "marker": {
          "symbol": "circle"
         },
         "mode": "lines",
         "name": "Adventure",
         "orientation": "v",
         "showlegend": true,
         "type": "scatter",
         "x": [
          "1910",
          "1920",
          "1930",
          "1940",
          "1950",
          "1960",
          "1970",
          "1980",
          "1990",
          "2000",
          "2010",
          "2020"
         ],
         "xaxis": "x",
         "y": [
          5,
          19,
          48,
          41,
          63,
          111,
          109,
          149,
          140,
          234,
          376,
          139
         ],
         "yaxis": "y"
        },
        {
         "hovertemplate": "genres=Animation<br>year=%{x}<br>count=%{y}<extra></extra>",
         "legendgroup": "Animation",
         "line": {
          "color": "#00cc96",
          "dash": "solid"
         },
         "marker": {
          "symbol": "circle"
         },
         "mode": "lines",
         "name": "Animation",
         "orientation": "v",
         "showlegend": true,
         "type": "scatter",
         "x": [
          "1910",
          "1920",
          "1930",
          "1940",
          "1950",
          "1960",
          "1970",
          "1980",
          "1990",
          "2000",
          "2010",
          "2020"
         ],
         "xaxis": "x",
         "y": [
          0,
          1,
          2,
          7,
          8,
          15,
          42,
          75,
          83,
          153,
          261,
          115
         ],
         "yaxis": "y"
        },
        {
         "hovertemplate": "genres=Biography<br>year=%{x}<br>count=%{y}<extra></extra>",
         "legendgroup": "Biography",
         "line": {
          "color": "#ab63fa",
          "dash": "solid"
         },
         "marker": {
          "symbol": "circle"
         },
         "mode": "lines",
         "name": "Biography",
         "orientation": "v",
         "showlegend": true,
         "type": "scatter",
         "x": [
          "1910",
          "1920",
          "1930",
          "1940",
          "1950",
          "1960",
          "1970",
          "1980",
          "1990",
          "2000",
          "2010",
          "2020"
         ],
         "xaxis": "x",
         "y": [
          0,
          3,
          17,
          25,
          41,
          43,
          59,
          89,
          136,
          270,
          608,
          210
         ],
         "yaxis": "y"
        },
        {
         "hovertemplate": "genres=Comedy<br>year=%{x}<br>count=%{y}<extra></extra>",
         "legendgroup": "Comedy",
         "line": {
          "color": "#FFA15A",
          "dash": "solid"
         },
         "marker": {
          "symbol": "circle"
         },
         "mode": "lines",
         "name": "Comedy",
         "orientation": "v",
         "showlegend": true,
         "type": "scatter",
         "x": [
          "1910",
          "1920",
          "1930",
          "1940",
          "1950",
          "1960",
          "1970",
          "1980",
          "1990",
          "2000",
          "2010",
          "2020"
         ],
         "xaxis": "x",
         "y": [
          4,
          44,
          148,
          130,
          162,
          265,
          356,
          451,
          569,
          754,
          951,
          446
         ],
         "yaxis": "y"
        },
        {
         "hovertemplate": "genres=Crime<br>year=%{x}<br>count=%{y}<extra></extra>",
         "legendgroup": "Crime",
         "line": {
          "color": "#19d3f3",
          "dash": "solid"
         },
         "marker": {
          "symbol": "circle"
         },
         "mode": "lines",
         "name": "Crime",
         "orientation": "v",
         "showlegend": true,
         "type": "scatter",
         "x": [
          "1910",
          "1920",
          "1930",
          "1940",
          "1950",
          "1960",
          "1970",
          "1980",
          "1990",
          "2000",
          "2010",
          "2020"
         ],
         "xaxis": "x",
         "y": [
          6,
          13,
          74,
          124,
          143,
          133,
          185,
          183,
          305,
          464,
          594,
          273
         ],
         "yaxis": "y"
        },
        {
         "hovertemplate": "genres=Documentary<br>year=%{x}<br>count=%{y}<extra></extra>",
         "legendgroup": "Documentary",
         "line": {
          "color": "#FF6692",
          "dash": "solid"
         },
         "marker": {
          "symbol": "circle"
         },
         "mode": "lines",
         "name": "Documentary",
         "orientation": "v",
         "showlegend": true,
         "type": "scatter",
         "x": [
          "1910",
          "1920",
          "1930",
          "1940",
          "1950",
          "1960",
          "1970",
          "1980",
          "1990",
          "2000",
          "2010",
          "2020"
         ],
         "xaxis": "x",
         "y": [
          0,
          7,
          4,
          5,
          6,
          20,
          47,
          58,
          74,
          394,
          908,
          347
         ],
         "yaxis": "y"
        },
        {
         "hovertemplate": "genres=Drama<br>year=%{x}<br>count=%{y}<extra></extra>",
         "legendgroup": "Drama",
         "line": {
          "color": "#B6E880",
          "dash": "solid"
         },
         "marker": {
          "symbol": "circle"
         },
         "mode": "lines",
         "name": "Drama",
         "orientation": "v",
         "showlegend": true,
         "type": "scatter",
         "x": [
          "1910",
          "1920",
          "1930",
          "1940",
          "1950",
          "1960",
          "1970",
          "1980",
          "1990",
          "2000",
          "2010",
          "2020"
         ],
         "xaxis": "x",
         "y": [
          18,
          100,
          259,
          372,
          520,
          663,
          702,
          777,
          1157,
          1984,
          2520,
          1133
         ],
         "yaxis": "y"
        },
        {
         "hovertemplate": "genres=Family<br>year=%{x}<br>count=%{y}<extra></extra>",
         "legendgroup": "Family",
         "line": {
          "color": "#FF97FF",
          "dash": "solid"
         },
         "marker": {
          "symbol": "circle"
         },
         "mode": "lines",
         "name": "Family",
         "orientation": "v",
         "showlegend": true,
         "type": "scatter",
         "x": [
          "1910",
          "1920",
          "1930",
          "1940",
          "1950",
          "1960",
          "1970",
          "1980",
          "1990",
          "2000",
          "2010",
          "2020"
         ],
         "xaxis": "x",
         "y": [
          1,
          13,
          37,
          35,
          37,
          42,
          66,
          62,
          52,
          100,
          166,
          91
         ],
         "yaxis": "y"
        },
        {
         "hovertemplate": "genres=Fantasy<br>year=%{x}<br>count=%{y}<extra></extra>",
         "legendgroup": "Fantasy",
         "line": {
          "color": "#FECB52",
          "dash": "solid"
         },
         "marker": {
          "symbol": "circle"
         },
         "mode": "lines",
         "name": "Fantasy",
         "orientation": "v",
         "showlegend": true,
         "type": "scatter",
         "x": [
          "1910",
          "1920",
          "1930",
          "1940",
          "1950",
          "1960",
          "1970",
          "1980",
          "1990",
          "2000",
          "2010",
          "2020"
         ],
         "xaxis": "x",
         "y": [
          3,
          13,
          14,
          37,
          29,
          25,
          45,
          68,
          82,
          100,
          132,
          56
         ],
         "yaxis": "y"
        },
        {
         "hovertemplate": "genres=Film-Noir<br>year=%{x}<br>count=%{y}<extra></extra>",
         "legendgroup": "Film-Noir",
         "line": {
          "color": "#636efa",
          "dash": "solid"
         },
         "marker": {
          "symbol": "circle"
         },
         "mode": "lines",
         "name": "Film-Noir",
         "orientation": "v",
         "showlegend": true,
         "type": "scatter",
         "x": [
          "1910",
          "1920",
          "1930",
          "1940",
          "1950",
          "1960",
          "1970",
          "1980",
          "1990",
          "2000",
          "2010",
          "2020"
         ],
         "xaxis": "x",
         "y": [
          0,
          2,
          16,
          114,
          84,
          0,
          0,
          0,
          0,
          0,
          0,
          0
         ],
         "yaxis": "y"
        },
        {
         "hovertemplate": "genres=History<br>year=%{x}<br>count=%{y}<extra></extra>",
         "legendgroup": "History",
         "line": {
          "color": "#EF553B",
          "dash": "solid"
         },
         "marker": {
          "symbol": "circle"
         },
         "mode": "lines",
         "name": "History",
         "orientation": "v",
         "showlegend": true,
         "type": "scatter",
         "x": [
          "1910",
          "1920",
          "1930",
          "1940",
          "1950",
          "1960",
          "1970",
          "1980",
          "1990",
          "2000",
          "2010",
          "2020"
         ],
         "xaxis": "x",
         "y": [
          4,
          7,
          21,
          24,
          28,
          59,
          67,
          83,
          85,
          176,
          320,
          117
         ],
         "yaxis": "y"
        },
        {
         "hovertemplate": "genres=Horror<br>year=%{x}<br>count=%{y}<extra></extra>",
         "legendgroup": "Horror",
         "line": {
          "color": "#00cc96",
          "dash": "solid"
         },
         "marker": {
          "symbol": "circle"
         },
         "mode": "lines",
         "name": "Horror",
         "orientation": "v",
         "showlegend": true,
         "type": "scatter",
         "x": [
          "1910",
          "1920",
          "1930",
          "1940",
          "1950",
          "1960",
          "1970",
          "1980",
          "1990",
          "2000",
          "2010",
          "2020"
         ],
         "xaxis": "x",
         "y": [
          1,
          22,
          18,
          23,
          17,
          44,
          49,
          47,
          39,
          55,
          73,
          60
         ],
         "yaxis": "y"
        },
        {
         "hovertemplate": "genres=Music<br>year=%{x}<br>count=%{y}<extra></extra>",
         "legendgroup": "Music",
         "line": {
          "color": "#ab63fa",
          "dash": "solid"
         },
         "marker": {
          "symbol": "circle"
         },
         "mode": "lines",
         "name": "Music",
         "orientation": "v",
         "showlegend": true,
         "type": "scatter",
         "x": [
          "1910",
          "1920",
          "1930",
          "1940",
          "1950",
          "1960",
          "1970",
          "1980",
          "1990",
          "2000",
          "2010",
          "2020"
         ],
         "xaxis": "x",
         "y": [
          0,
          0,
          7,
          13,
          19,
          13,
          43,
          75,
          69,
          153,
          215,
          82
         ],
         "yaxis": "y"
        },
        {
         "hovertemplate": "genres=Musical<br>year=%{x}<br>count=%{y}<extra></extra>",
         "legendgroup": "Musical",
         "line": {
          "color": "#FFA15A",
          "dash": "solid"
         },
         "marker": {
          "symbol": "circle"
         },
         "mode": "lines",
         "name": "Musical",
         "orientation": "v",
         "showlegend": true,
         "type": "scatter",
         "x": [
          "1910",
          "1920",
          "1930",
          "1940",
          "1950",
          "1960",
          "1970",
          "1980",
          "1990",
          "2000",
          "2010",
          "2020"
         ],
         "xaxis": "x",
         "y": [
          0,
          2,
          35,
          19,
          38,
          28,
          33,
          29,
          27,
          40,
          40,
          18
         ],
         "yaxis": "y"
        },
        {
         "hovertemplate": "genres=Mystery<br>year=%{x}<br>count=%{y}<extra></extra>",
         "legendgroup": "Mystery",
         "line": {
          "color": "#19d3f3",
          "dash": "solid"
         },
         "marker": {
          "symbol": "circle"
         },
         "mode": "lines",
         "name": "Mystery",
         "orientation": "v",
         "showlegend": true,
         "type": "scatter",
         "x": [
          "1910",
          "1920",
          "1930",
          "1940",
          "1950",
          "1960",
          "1970",
          "1980",
          "1990",
          "2000",
          "2010",
          "2020"
         ],
         "xaxis": "x",
         "y": [
          1,
          9,
          35,
          56,
          42,
          62,
          76,
          55,
          97,
          154,
          224,
          106
         ],
         "yaxis": "y"
        },
        {
         "hovertemplate": "genres=News<br>year=%{x}<br>count=%{y}<extra></extra>",
         "legendgroup": "News",
         "line": {
          "color": "#FF6692",
          "dash": "solid"
         },
         "marker": {
          "symbol": "circle"
         },
         "mode": "lines",
         "name": "News",
         "orientation": "v",
         "showlegend": true,
         "type": "scatter",
         "x": [
          "1910",
          "1920",
          "1930",
          "1940",
          "1950",
          "1960",
          "1970",
          "1980",
          "1990",
          "2000",
          "2010",
          "2020"
         ],
         "xaxis": "x",
         "y": [
          0,
          0,
          0,
          0,
          0,
          1,
          0,
          0,
          0,
          4,
          22,
          1
         ],
         "yaxis": "y"
        },
        {
         "hovertemplate": "genres=Romance<br>year=%{x}<br>count=%{y}<extra></extra>",
         "legendgroup": "Romance",
         "line": {
          "color": "#B6E880",
          "dash": "solid"
         },
         "marker": {
          "symbol": "circle"
         },
         "mode": "lines",
         "name": "Romance",
         "orientation": "v",
         "showlegend": true,
         "type": "scatter",
         "x": [
          "1910",
          "1920",
          "1930",
          "1940",
          "1950",
          "1960",
          "1970",
          "1980",
          "1990",
          "2000",
          "2010",
          "2020"
         ],
         "xaxis": "x",
         "y": [
          4,
          54,
          156,
          154,
          166,
          170,
          147,
          191,
          301,
          517,
          534,
          261
         ],
         "yaxis": "y"
        },
        {
         "hovertemplate": "genres=Sci-Fi<br>year=%{x}<br>count=%{y}<extra></extra>",
         "legendgroup": "Sci-Fi",
         "line": {
          "color": "#FF97FF",
          "dash": "solid"
         },
         "marker": {
          "symbol": "circle"
         },
         "mode": "lines",
         "name": "Sci-Fi",
         "orientation": "v",
         "showlegend": true,
         "type": "scatter",
         "x": [
          "1910",
          "1920",
          "1930",
          "1940",
          "1950",
          "1960",
          "1970",
          "1980",
          "1990",
          "2000",
          "2010",
          "2020"
         ],
         "xaxis": "x",
         "y": [
          1,
          3,
          8,
          0,
          16,
          14,
          25,
          51,
          33,
          52,
          89,
          26
         ],
         "yaxis": "y"
        },
        {
         "hovertemplate": "genres=Sport<br>year=%{x}<br>count=%{y}<extra></extra>",
         "legendgroup": "Sport",
         "line": {
          "color": "#FECB52",
          "dash": "solid"
         },
         "marker": {
          "symbol": "circle"
         },
         "mode": "lines",
         "name": "Sport",
         "orientation": "v",
         "showlegend": true,
         "type": "scatter",
         "x": [
          "1910",
          "1920",
          "1930",
          "1940",
          "1950",
          "1960",
          "1970",
          "1980",
          "1990",
          "2000",
          "2010",
          "2020"
         ],
         "xaxis": "x",
         "y": [
          0,
          2,
          3,
          5,
          7,
          9,
          19,
          15,
          34,
          77,
          151,
          62
         ],
         "yaxis": "y"
        },
        {
         "hovertemplate": "genres=Thriller<br>year=%{x}<br>count=%{y}<extra></extra>",
         "legendgroup": "Thriller",
         "line": {
          "color": "#636efa",
          "dash": "solid"
         },
         "marker": {
          "symbol": "circle"
         },
         "mode": "lines",
         "name": "Thriller",
         "orientation": "v",
         "showlegend": true,
         "type": "scatter",
         "x": [
          "1910",
          "1920",
          "1930",
          "1940",
          "1950",
          "1960",
          "1970",
          "1980",
          "1990",
          "2000",
          "2010",
          "2020"
         ],
         "xaxis": "x",
         "y": [
          0,
          11,
          14,
          35,
          50,
          82,
          105,
          76,
          140,
          226,
          368,
          270
         ],
         "yaxis": "y"
        },
        {
         "hovertemplate": "genres=War<br>year=%{x}<br>count=%{y}<extra></extra>",
         "legendgroup": "War",
         "line": {
          "color": "#EF553B",
          "dash": "solid"
         },
         "marker": {
          "symbol": "circle"
         },
         "mode": "lines",
         "name": "War",
         "orientation": "v",
         "showlegend": true,
         "type": "scatter",
         "x": [
          "1910",
          "1920",
          "1930",
          "1940",
          "1950",
          "1960",
          "1970",
          "1980",
          "1990",
          "2000",
          "2010",
          "2020"
         ],
         "xaxis": "x",
         "y": [
          2,
          5,
          19,
          54,
          64,
          83,
          55,
          41,
          66,
          113,
          98,
          27
         ],
         "yaxis": "y"
        },
        {
         "hovertemplate": "genres=Western<br>year=%{x}<br>count=%{y}<extra></extra>",
         "legendgroup": "Western",
         "line": {
          "color": "#00cc96",
          "dash": "solid"
         },
         "marker": {
          "symbol": "circle"
         },
         "mode": "lines",
         "name": "Western",
         "orientation": "v",
         "showlegend": true,
         "type": "scatter",
         "x": [
          "1910",
          "1920",
          "1930",
          "1940",
          "1950",
          "1960",
          "1970",
          "1980",
          "1990",
          "2000",
          "2010",
          "2020"
         ],
         "xaxis": "x",
         "y": [
          0,
          6,
          7,
          18,
          51,
          38,
          29,
          4,
          9,
          10,
          17,
          1
         ],
         "yaxis": "y"
        }
       ],
       "layout": {
        "height": 800,
        "legend": {
         "title": {
          "text": "genres"
         },
         "tracegroupgap": 0
        },
        "template": {
         "data": {
          "bar": [
           {
            "error_x": {
             "color": "#2a3f5f"
            },
            "error_y": {
             "color": "#2a3f5f"
            },
            "marker": {
             "line": {
              "color": "#E5ECF6",
              "width": 0.5
             },
             "pattern": {
              "fillmode": "overlay",
              "size": 10,
              "solidity": 0.2
             }
            },
            "type": "bar"
           }
          ],
          "barpolar": [
           {
            "marker": {
             "line": {
              "color": "#E5ECF6",
              "width": 0.5
             },
             "pattern": {
              "fillmode": "overlay",
              "size": 10,
              "solidity": 0.2
             }
            },
            "type": "barpolar"
           }
          ],
          "carpet": [
           {
            "aaxis": {
             "endlinecolor": "#2a3f5f",
             "gridcolor": "white",
             "linecolor": "white",
             "minorgridcolor": "white",
             "startlinecolor": "#2a3f5f"
            },
            "baxis": {
             "endlinecolor": "#2a3f5f",
             "gridcolor": "white",
             "linecolor": "white",
             "minorgridcolor": "white",
             "startlinecolor": "#2a3f5f"
            },
            "type": "carpet"
           }
          ],
          "choropleth": [
           {
            "colorbar": {
             "outlinewidth": 0,
             "ticks": ""
            },
            "type": "choropleth"
           }
          ],
          "contour": [
           {
            "colorbar": {
             "outlinewidth": 0,
             "ticks": ""
            },
            "colorscale": [
             [
              0,
              "#0d0887"
             ],
             [
              0.1111111111111111,
              "#46039f"
             ],
             [
              0.2222222222222222,
              "#7201a8"
             ],
             [
              0.3333333333333333,
              "#9c179e"
             ],
             [
              0.4444444444444444,
              "#bd3786"
             ],
             [
              0.5555555555555556,
              "#d8576b"
             ],
             [
              0.6666666666666666,
              "#ed7953"
             ],
             [
              0.7777777777777778,
              "#fb9f3a"
             ],
             [
              0.8888888888888888,
              "#fdca26"
             ],
             [
              1,
              "#f0f921"
             ]
            ],
            "type": "contour"
           }
          ],
          "contourcarpet": [
           {
            "colorbar": {
             "outlinewidth": 0,
             "ticks": ""
            },
            "type": "contourcarpet"
           }
          ],
          "heatmap": [
           {
            "colorbar": {
             "outlinewidth": 0,
             "ticks": ""
            },
            "colorscale": [
             [
              0,
              "#0d0887"
             ],
             [
              0.1111111111111111,
              "#46039f"
             ],
             [
              0.2222222222222222,
              "#7201a8"
             ],
             [
              0.3333333333333333,
              "#9c179e"
             ],
             [
              0.4444444444444444,
              "#bd3786"
             ],
             [
              0.5555555555555556,
              "#d8576b"
             ],
             [
              0.6666666666666666,
              "#ed7953"
             ],
             [
              0.7777777777777778,
              "#fb9f3a"
             ],
             [
              0.8888888888888888,
              "#fdca26"
             ],
             [
              1,
              "#f0f921"
             ]
            ],
            "type": "heatmap"
           }
          ],
          "heatmapgl": [
           {
            "colorbar": {
             "outlinewidth": 0,
             "ticks": ""
            },
            "colorscale": [
             [
              0,
              "#0d0887"
             ],
             [
              0.1111111111111111,
              "#46039f"
             ],
             [
              0.2222222222222222,
              "#7201a8"
             ],
             [
              0.3333333333333333,
              "#9c179e"
             ],
             [
              0.4444444444444444,
              "#bd3786"
             ],
             [
              0.5555555555555556,
              "#d8576b"
             ],
             [
              0.6666666666666666,
              "#ed7953"
             ],
             [
              0.7777777777777778,
              "#fb9f3a"
             ],
             [
              0.8888888888888888,
              "#fdca26"
             ],
             [
              1,
              "#f0f921"
             ]
            ],
            "type": "heatmapgl"
           }
          ],
          "histogram": [
           {
            "marker": {
             "pattern": {
              "fillmode": "overlay",
              "size": 10,
              "solidity": 0.2
             }
            },
            "type": "histogram"
           }
          ],
          "histogram2d": [
           {
            "colorbar": {
             "outlinewidth": 0,
             "ticks": ""
            },
            "colorscale": [
             [
              0,
              "#0d0887"
             ],
             [
              0.1111111111111111,
              "#46039f"
             ],
             [
              0.2222222222222222,
              "#7201a8"
             ],
             [
              0.3333333333333333,
              "#9c179e"
             ],
             [
              0.4444444444444444,
              "#bd3786"
             ],
             [
              0.5555555555555556,
              "#d8576b"
             ],
             [
              0.6666666666666666,
              "#ed7953"
             ],
             [
              0.7777777777777778,
              "#fb9f3a"
             ],
             [
              0.8888888888888888,
              "#fdca26"
             ],
             [
              1,
              "#f0f921"
             ]
            ],
            "type": "histogram2d"
           }
          ],
          "histogram2dcontour": [
           {
            "colorbar": {
             "outlinewidth": 0,
             "ticks": ""
            },
            "colorscale": [
             [
              0,
              "#0d0887"
             ],
             [
              0.1111111111111111,
              "#46039f"
             ],
             [
              0.2222222222222222,
              "#7201a8"
             ],
             [
              0.3333333333333333,
              "#9c179e"
             ],
             [
              0.4444444444444444,
              "#bd3786"
             ],
             [
              0.5555555555555556,
              "#d8576b"
             ],
             [
              0.6666666666666666,
              "#ed7953"
             ],
             [
              0.7777777777777778,
              "#fb9f3a"
             ],
             [
              0.8888888888888888,
              "#fdca26"
             ],
             [
              1,
              "#f0f921"
             ]
            ],
            "type": "histogram2dcontour"
           }
          ],
          "mesh3d": [
           {
            "colorbar": {
             "outlinewidth": 0,
             "ticks": ""
            },
            "type": "mesh3d"
           }
          ],
          "parcoords": [
           {
            "line": {
             "colorbar": {
              "outlinewidth": 0,
              "ticks": ""
             }
            },
            "type": "parcoords"
           }
          ],
          "pie": [
           {
            "automargin": true,
            "type": "pie"
           }
          ],
          "scatter": [
           {
            "fillpattern": {
             "fillmode": "overlay",
             "size": 10,
             "solidity": 0.2
            },
            "type": "scatter"
           }
          ],
          "scatter3d": [
           {
            "line": {
             "colorbar": {
              "outlinewidth": 0,
              "ticks": ""
             }
            },
            "marker": {
             "colorbar": {
              "outlinewidth": 0,
              "ticks": ""
             }
            },
            "type": "scatter3d"
           }
          ],
          "scattercarpet": [
           {
            "marker": {
             "colorbar": {
              "outlinewidth": 0,
              "ticks": ""
             }
            },
            "type": "scattercarpet"
           }
          ],
          "scattergeo": [
           {
            "marker": {
             "colorbar": {
              "outlinewidth": 0,
              "ticks": ""
             }
            },
            "type": "scattergeo"
           }
          ],
          "scattergl": [
           {
            "marker": {
             "colorbar": {
              "outlinewidth": 0,
              "ticks": ""
             }
            },
            "type": "scattergl"
           }
          ],
          "scattermapbox": [
           {
            "marker": {
             "colorbar": {
              "outlinewidth": 0,
              "ticks": ""
             }
            },
            "type": "scattermapbox"
           }
          ],
          "scatterpolar": [
           {
            "marker": {
             "colorbar": {
              "outlinewidth": 0,
              "ticks": ""
             }
            },
            "type": "scatterpolar"
           }
          ],
          "scatterpolargl": [
           {
            "marker": {
             "colorbar": {
              "outlinewidth": 0,
              "ticks": ""
             }
            },
            "type": "scatterpolargl"
           }
          ],
          "scatterternary": [
           {
            "marker": {
             "colorbar": {
              "outlinewidth": 0,
              "ticks": ""
             }
            },
            "type": "scatterternary"
           }
          ],
          "surface": [
           {
            "colorbar": {
             "outlinewidth": 0,
             "ticks": ""
            },
            "colorscale": [
             [
              0,
              "#0d0887"
             ],
             [
              0.1111111111111111,
              "#46039f"
             ],
             [
              0.2222222222222222,
              "#7201a8"
             ],
             [
              0.3333333333333333,
              "#9c179e"
             ],
             [
              0.4444444444444444,
              "#bd3786"
             ],
             [
              0.5555555555555556,
              "#d8576b"
             ],
             [
              0.6666666666666666,
              "#ed7953"
             ],
             [
              0.7777777777777778,
              "#fb9f3a"
             ],
             [
              0.8888888888888888,
              "#fdca26"
             ],
             [
              1,
              "#f0f921"
             ]
            ],
            "type": "surface"
           }
          ],
          "table": [
           {
            "cells": {
             "fill": {
              "color": "#EBF0F8"
             },
             "line": {
              "color": "white"
             }
            },
            "header": {
             "fill": {
              "color": "#C8D4E3"
             },
             "line": {
              "color": "white"
             }
            },
            "type": "table"
           }
          ]
         },
         "layout": {
          "annotationdefaults": {
           "arrowcolor": "#2a3f5f",
           "arrowhead": 0,
           "arrowwidth": 1
          },
          "autotypenumbers": "strict",
          "coloraxis": {
           "colorbar": {
            "outlinewidth": 0,
            "ticks": ""
           }
          },
          "colorscale": {
           "diverging": [
            [
             0,
             "#8e0152"
            ],
            [
             0.1,
             "#c51b7d"
            ],
            [
             0.2,
             "#de77ae"
            ],
            [
             0.3,
             "#f1b6da"
            ],
            [
             0.4,
             "#fde0ef"
            ],
            [
             0.5,
             "#f7f7f7"
            ],
            [
             0.6,
             "#e6f5d0"
            ],
            [
             0.7,
             "#b8e186"
            ],
            [
             0.8,
             "#7fbc41"
            ],
            [
             0.9,
             "#4d9221"
            ],
            [
             1,
             "#276419"
            ]
           ],
           "sequential": [
            [
             0,
             "#0d0887"
            ],
            [
             0.1111111111111111,
             "#46039f"
            ],
            [
             0.2222222222222222,
             "#7201a8"
            ],
            [
             0.3333333333333333,
             "#9c179e"
            ],
            [
             0.4444444444444444,
             "#bd3786"
            ],
            [
             0.5555555555555556,
             "#d8576b"
            ],
            [
             0.6666666666666666,
             "#ed7953"
            ],
            [
             0.7777777777777778,
             "#fb9f3a"
            ],
            [
             0.8888888888888888,
             "#fdca26"
            ],
            [
             1,
             "#f0f921"
            ]
           ],
           "sequentialminus": [
            [
             0,
             "#0d0887"
            ],
            [
             0.1111111111111111,
             "#46039f"
            ],
            [
             0.2222222222222222,
             "#7201a8"
            ],
            [
             0.3333333333333333,
             "#9c179e"
            ],
            [
             0.4444444444444444,
             "#bd3786"
            ],
            [
             0.5555555555555556,
             "#d8576b"
            ],
            [
             0.6666666666666666,
             "#ed7953"
            ],
            [
             0.7777777777777778,
             "#fb9f3a"
            ],
            [
             0.8888888888888888,
             "#fdca26"
            ],
            [
             1,
             "#f0f921"
            ]
           ]
          },
          "colorway": [
           "#636efa",
           "#EF553B",
           "#00cc96",
           "#ab63fa",
           "#FFA15A",
           "#19d3f3",
           "#FF6692",
           "#B6E880",
           "#FF97FF",
           "#FECB52"
          ],
          "font": {
           "color": "#2a3f5f"
          },
          "geo": {
           "bgcolor": "white",
           "lakecolor": "white",
           "landcolor": "#E5ECF6",
           "showlakes": true,
           "showland": true,
           "subunitcolor": "white"
          },
          "hoverlabel": {
           "align": "left"
          },
          "hovermode": "closest",
          "mapbox": {
           "style": "light"
          },
          "paper_bgcolor": "white",
          "plot_bgcolor": "#E5ECF6",
          "polar": {
           "angularaxis": {
            "gridcolor": "white",
            "linecolor": "white",
            "ticks": ""
           },
           "bgcolor": "#E5ECF6",
           "radialaxis": {
            "gridcolor": "white",
            "linecolor": "white",
            "ticks": ""
           }
          },
          "scene": {
           "xaxis": {
            "backgroundcolor": "#E5ECF6",
            "gridcolor": "white",
            "gridwidth": 2,
            "linecolor": "white",
            "showbackground": true,
            "ticks": "",
            "zerolinecolor": "white"
           },
           "yaxis": {
            "backgroundcolor": "#E5ECF6",
            "gridcolor": "white",
            "gridwidth": 2,
            "linecolor": "white",
            "showbackground": true,
            "ticks": "",
            "zerolinecolor": "white"
           },
           "zaxis": {
            "backgroundcolor": "#E5ECF6",
            "gridcolor": "white",
            "gridwidth": 2,
            "linecolor": "white",
            "showbackground": true,
            "ticks": "",
            "zerolinecolor": "white"
           }
          },
          "shapedefaults": {
           "line": {
            "color": "#2a3f5f"
           }
          },
          "ternary": {
           "aaxis": {
            "gridcolor": "white",
            "linecolor": "white",
            "ticks": ""
           },
           "baxis": {
            "gridcolor": "white",
            "linecolor": "white",
            "ticks": ""
           },
           "bgcolor": "#E5ECF6",
           "caxis": {
            "gridcolor": "white",
            "linecolor": "white",
            "ticks": ""
           }
          },
          "title": {
           "x": 0.05
          },
          "xaxis": {
           "automargin": true,
           "gridcolor": "white",
           "linecolor": "white",
           "ticks": "",
           "title": {
            "standoff": 15
           },
           "zerolinecolor": "white",
           "zerolinewidth": 2
          },
          "yaxis": {
           "automargin": true,
           "gridcolor": "white",
           "linecolor": "white",
           "ticks": "",
           "title": {
            "standoff": 15
           },
           "zerolinecolor": "white",
           "zerolinewidth": 2
          }
         }
        },
        "title": {
         "text": "Nombre de films par genre au fil des décennies"
        },
        "xaxis": {
         "anchor": "y",
         "domain": [
          0,
          1
         ],
         "title": {
          "text": "year"
         }
        },
        "yaxis": {
         "anchor": "x",
         "domain": [
          0,
          1
         ],
         "title": {
          "text": "count"
         }
        }
       }
      }
     },
     "metadata": {},
     "output_type": "display_data"
    }
   ],
   "source": [
    "import pandas as pd\n",
    "import plotly.express as px\n",
    "\n",
    "# Créer le DataFrame à partir de ton tableau pivot\n",
    "data = {\n",
    "    'genres': ['Action', 'Adventure', 'Animation', 'Biography', 'Comedy', 'Crime', 'Documentary', 'Drama', 'Family', 'Fantasy', \n",
    "               'Film-Noir', 'History', 'Horror', 'Music', 'Musical', 'Mystery', 'News', 'Romance', 'Sci-Fi', 'Sport', \n",
    "               'Thriller', 'War', 'Western'],\n",
    "    '1910': [2.0, 5.0, 0.0, 0.0, 4.0, 6.0, 0.0, 18.0, 1.0, 3.0, 0.0, 4.0, 1.0, 0.0, 0.0, 1.0, 0.0, 4.0, 1.0, 0.0, 0.0, 2.0, 0.0],\n",
    "    '1920': [13.0, 19.0, 1.0, 3.0, 44.0, 13.0, 7.0, 100.0, 13.0, 13.0, 2.0, 7.0, 22.0, 0.0, 2.0, 9.0, 0.0, 54.0, 3.0, 2.0, 11.0, 5.0, 6.0],\n",
    "    '1930': [18.0, 48.0, 2.0, 17.0, 148.0, 74.0, 4.0, 259.0, 37.0, 14.0, 16.0, 21.0, 18.0, 7.0, 35.0, 35.0, 0.0, 156.0, 8.0, 3.0, 14.0, 19.0, 7.0],\n",
    "    '1940': [26.0, 41.0, 7.0, 25.0, 130.0, 124.0, 5.0, 372.0, 35.0, 37.0, 114.0, 24.0, 23.0, 13.0, 19.0, 56.0, 0.0, 154.0, 0.0, 5.0, 35.0, 54.0, 18.0],\n",
    "    '1950': [36.0, 63.0, 8.0, 41.0, 162.0, 143.0, 6.0, 520.0, 37.0, 29.0, 84.0, 28.0, 17.0, 19.0, 38.0, 42.0, 0.0, 166.0, 16.0, 7.0, 50.0, 64.0, 51.0],\n",
    "    '1960': [88.0, 111.0, 15.0, 43.0, 265.0, 133.0, 20.0, 663.0, 42.0, 25.0, 0.0, 59.0, 44.0, 13.0, 28.0, 62.0, 1.0, 170.0, 14.0, 9.0, 82.0, 83.0, 38.0],\n",
    "    '1970': [131.0, 109.0, 42.0, 59.0, 356.0, 185.0, 47.0, 702.0, 66.0, 45.0, 0.0, 67.0, 49.0, 43.0, 33.0, 76.0, 0.0, 147.0, 25.0, 19.0, 105.0, 55.0, 29.0],\n",
    "    '1980': [151.0, 149.0, 75.0, 89.0, 451.0, 183.0, 58.0, 777.0, 62.0, 68.0, 0.0, 83.0, 47.0, 75.0, 29.0, 55.0, 0.0, 191.0, 51.0, 15.0, 76.0, 41.0, 4.0],\n",
    "    '1990': [225.0, 140.0, 83.0, 136.0, 569.0, 305.0, 74.0, 1157.0, 52.0, 82.0, 0.0, 85.0, 39.0, 69.0, 27.0, 97.0, 0.0, 301.0, 33.0, 34.0, 140.0, 66.0, 9.0],\n",
    "    '2000': [413.0, 234.0, 153.0, 270.0, 754.0, 464.0, 394.0, 1984.0, 100.0, 100.0, 0.0, 176.0, 55.0, 153.0, 40.0, 154.0, 4.0, 517.0, 52.0, 77.0, 226.0, 113.0, 10.0],\n",
    "    '2010': [610.0, 376.0, 261.0, 608.0, 951.0, 594.0, 908.0, 2520.0, 166.0, 132.0, 0.0, 320.0, 73.0, 215.0, 40.0, 224.0, 22.0, 534.0, 89.0, 151.0, 368.0, 98.0, 17.0],\n",
    "    '2020': [308.0, 139.0, 115.0, 210.0, 446.0, 273.0, 347.0, 1133.0, 91.0, 56.0, 0.0, 117.0, 60.0, 82.0, 18.0, 106.0, 1.0, 261.0, 26.0, 62.0, 270.0, 27.0, 1.0]\n",
    "}\n",
    "\n",
    "df = pd.DataFrame(data)\n",
    "\n",
    "# Transformer le DataFrame pour qu'il soit long plutôt que large\n",
    "df_long = df.melt(id_vars='genres', var_name='year', value_name='count')\n",
    "\n",
    "# Créer le graphique linéaire\n",
    "fig = px.line(df_long, x='year', y='count', color='genres', title='Nombre de films par genre au fil des décennies', height=800)\n",
    "\n",
    "# Afficher le graphique\n",
    "fig.show()\n"
   ]
  },
  {
   "cell_type": "code",
   "execution_count": null,
   "metadata": {},
   "outputs": [
    {
     "data": {
      "application/vnd.plotly.v1+json": {
       "config": {
        "plotlyServerURL": "https://plot.ly"
       },
       "data": [
        {
         "alignmentgroup": "True",
         "bingroup": "x",
         "histfunc": "sum",
         "hovertemplate": "Genres=Action<br>Année=%{x}<br>sum of Pourcentage=%{y}<extra></extra>",
         "legendgroup": "Action",
         "marker": {
          "color": "#636efa",
          "pattern": {
           "shape": ""
          }
         },
         "name": "Action",
         "offsetgroup": "Action",
         "orientation": "v",
         "showlegend": true,
         "type": "histogram",
         "x": [
          1910,
          1920,
          1930,
          1940,
          1950,
          1960,
          1970,
          1980,
          1990,
          2000,
          2010,
          2020
         ],
         "xaxis": "x",
         "y": [
          0.09896091044037605,
          0.6432459178624443,
          0.8906481939633843,
          1.2864918357248887,
          1.7812963879267687,
          4.354280059376546,
          6.481939633844632,
          7.471548738248392,
          11.133102424542306,
          20.435428005937656,
          30.183077684314696,
          15.239980207817913
         ],
         "yaxis": "y"
        },
        {
         "alignmentgroup": "True",
         "bingroup": "x",
         "histfunc": "sum",
         "hovertemplate": "Genres=Adult<br>Année=%{x}<br>sum of Pourcentage=%{y}<extra></extra>",
         "legendgroup": "Adult",
         "marker": {
          "color": "#EF553B",
          "pattern": {
           "shape": ""
          }
         },
         "name": "Adult",
         "offsetgroup": "Adult",
         "orientation": "v",
         "showlegend": true,
         "type": "histogram",
         "x": [
          1910,
          1920,
          1930,
          1940,
          1950,
          1960,
          1970,
          1980,
          1990,
          2000,
          2010,
          2020
         ],
         "xaxis": "x",
         "y": [
          null,
          null,
          null,
          null,
          null,
          null,
          null,
          100,
          null,
          null,
          null,
          null
         ],
         "yaxis": "y"
        },
        {
         "alignmentgroup": "True",
         "bingroup": "x",
         "histfunc": "sum",
         "hovertemplate": "Genres=Adventure<br>Année=%{x}<br>sum of Pourcentage=%{y}<extra></extra>",
         "legendgroup": "Adventure",
         "marker": {
          "color": "#00cc96",
          "pattern": {
           "shape": ""
          }
         },
         "name": "Adventure",
         "offsetgroup": "Adventure",
         "orientation": "v",
         "showlegend": true,
         "type": "histogram",
         "x": [
          1910,
          1920,
          1930,
          1940,
          1950,
          1960,
          1970,
          1980,
          1990,
          2000,
          2010,
          2020
         ],
         "xaxis": "x",
         "y": [
          0.3486750348675035,
          1.3249651324965133,
          3.3472803347280333,
          2.8591352859135286,
          4.393305439330543,
          7.740585774058577,
          7.601115760111576,
          10.390516039051603,
          9.762900976290098,
          16.317991631799163,
          26.220362622036262,
          9.693165969316597
         ],
         "yaxis": "y"
        },
        {
         "alignmentgroup": "True",
         "bingroup": "x",
         "histfunc": "sum",
         "hovertemplate": "Genres=Animation<br>Année=%{x}<br>sum of Pourcentage=%{y}<extra></extra>",
         "legendgroup": "Animation",
         "marker": {
          "color": "#ab63fa",
          "pattern": {
           "shape": ""
          }
         },
         "name": "Animation",
         "offsetgroup": "Animation",
         "orientation": "v",
         "showlegend": true,
         "type": "histogram",
         "x": [
          1910,
          1920,
          1930,
          1940,
          1950,
          1960,
          1970,
          1980,
          1990,
          2000,
          2010,
          2020
         ],
         "xaxis": "x",
         "y": [
          null,
          0.13123359580052493,
          0.26246719160104987,
          0.9186351706036745,
          1.0498687664041995,
          1.968503937007874,
          5.511811023622047,
          9.84251968503937,
          10.892388451443571,
          20.078740157480315,
          34.25196850393701,
          15.091863517060366
         ],
         "yaxis": "y"
        },
        {
         "alignmentgroup": "True",
         "bingroup": "x",
         "histfunc": "sum",
         "hovertemplate": "Genres=Biography<br>Année=%{x}<br>sum of Pourcentage=%{y}<extra></extra>",
         "legendgroup": "Biography",
         "marker": {
          "color": "#FFA15A",
          "pattern": {
           "shape": ""
          }
         },
         "name": "Biography",
         "offsetgroup": "Biography",
         "orientation": "v",
         "showlegend": true,
         "type": "histogram",
         "x": [
          1910,
          1920,
          1930,
          1940,
          1950,
          1960,
          1970,
          1980,
          1990,
          2000,
          2010,
          2020
         ],
         "xaxis": "x",
         "y": [
          null,
          0.19986675549633579,
          1.1325782811459029,
          1.6655562958027983,
          2.731512325116589,
          2.8647568287808127,
          3.930712858094604,
          5.929380413057961,
          9.060626249167223,
          17.98800799467022,
          40.50632911392405,
          13.990672884743505
         ],
         "yaxis": "y"
        },
        {
         "alignmentgroup": "True",
         "bingroup": "x",
         "histfunc": "sum",
         "hovertemplate": "Genres=Comedy<br>Année=%{x}<br>sum of Pourcentage=%{y}<extra></extra>",
         "legendgroup": "Comedy",
         "marker": {
          "color": "#19d3f3",
          "pattern": {
           "shape": ""
          }
         },
         "name": "Comedy",
         "offsetgroup": "Comedy",
         "orientation": "v",
         "showlegend": true,
         "type": "histogram",
         "x": [
          1910,
          1920,
          1930,
          1940,
          1950,
          1960,
          1970,
          1980,
          1990,
          2000,
          2010,
          2020
         ],
         "xaxis": "x",
         "y": [
          0.09345794392523366,
          1.0280373831775702,
          3.4579439252336446,
          3.0373831775700935,
          3.7850467289719627,
          6.191588785046729,
          8.317757009345794,
          10.537383177570094,
          13.294392523364488,
          17.61682242990654,
          22.2196261682243,
          10.42056074766355
         ],
         "yaxis": "y"
        },
        {
         "alignmentgroup": "True",
         "bingroup": "x",
         "histfunc": "sum",
         "hovertemplate": "Genres=Crime<br>Année=%{x}<br>sum of Pourcentage=%{y}<extra></extra>",
         "legendgroup": "Crime",
         "marker": {
          "color": "#FF6692",
          "pattern": {
           "shape": ""
          }
         },
         "name": "Crime",
         "offsetgroup": "Crime",
         "orientation": "v",
         "showlegend": true,
         "type": "histogram",
         "x": [
          1910,
          1920,
          1930,
          1940,
          1950,
          1960,
          1970,
          1980,
          1990,
          2000,
          2010,
          2020
         ],
         "xaxis": "x",
         "y": [
          0.24028834601521826,
          0.5206247496996396,
          2.9635562675210254,
          4.965959150981178,
          5.726872246696035,
          5.326391670004005,
          7.408890668802563,
          7.328794553464157,
          12.214657589106928,
          18.582298758510213,
          23.788546255506606,
          10.93311974369243
         ],
         "yaxis": "y"
        },
        {
         "alignmentgroup": "True",
         "bingroup": "x",
         "histfunc": "sum",
         "hovertemplate": "Genres=Documentary<br>Année=%{x}<br>sum of Pourcentage=%{y}<extra></extra>",
         "legendgroup": "Documentary",
         "marker": {
          "color": "#B6E880",
          "pattern": {
           "shape": ""
          }
         },
         "name": "Documentary",
         "offsetgroup": "Documentary",
         "orientation": "v",
         "showlegend": true,
         "type": "histogram",
         "x": [
          1910,
          1920,
          1930,
          1940,
          1950,
          1960,
          1970,
          1980,
          1990,
          2000,
          2010,
          2020
         ],
         "xaxis": "x",
         "y": [
          null,
          0.37433155080213903,
          0.21390374331550802,
          0.267379679144385,
          0.32085561497326204,
          1.06951871657754,
          2.5133689839572195,
          3.1016042780748663,
          3.9572192513368987,
          21.06951871657754,
          48.55614973262032,
          18.55614973262032
         ],
         "yaxis": "y"
        },
        {
         "alignmentgroup": "True",
         "bingroup": "x",
         "histfunc": "sum",
         "hovertemplate": "Genres=Drama<br>Année=%{x}<br>sum of Pourcentage=%{y}<extra></extra>",
         "legendgroup": "Drama",
         "marker": {
          "color": "#FF97FF",
          "pattern": {
           "shape": ""
          }
         },
         "name": "Drama",
         "offsetgroup": "Drama",
         "orientation": "v",
         "showlegend": true,
         "type": "histogram",
         "x": [
          1910,
          1920,
          1930,
          1940,
          1950,
          1960,
          1970,
          1980,
          1990,
          2000,
          2010,
          2020
         ],
         "xaxis": "x",
         "y": [
          0.1763841254287114,
          0.9799118079372856,
          2.53797158255757,
          3.6452719255267025,
          5.095541401273886,
          6.496815286624204,
          6.8789808917197455,
          7.613914747672709,
          11.337579617834395,
          19.441450269475745,
          24.693777560019598,
          11.102400783929447
         ],
         "yaxis": "y"
        },
        {
         "alignmentgroup": "True",
         "bingroup": "x",
         "histfunc": "sum",
         "hovertemplate": "Genres=Family<br>Année=%{x}<br>sum of Pourcentage=%{y}<extra></extra>",
         "legendgroup": "Family",
         "marker": {
          "color": "#FECB52",
          "pattern": {
           "shape": ""
          }
         },
         "name": "Family",
         "offsetgroup": "Family",
         "orientation": "v",
         "showlegend": true,
         "type": "histogram",
         "x": [
          1910,
          1920,
          1930,
          1940,
          1950,
          1960,
          1970,
          1980,
          1990,
          2000,
          2010,
          2020
         ],
         "xaxis": "x",
         "y": [
          0.14245014245014245,
          1.8518518518518516,
          5.270655270655271,
          4.985754985754986,
          5.270655270655271,
          5.982905982905983,
          9.401709401709402,
          8.831908831908832,
          7.4074074074074066,
          14.245014245014245,
          23.646723646723647,
          12.962962962962962
         ],
         "yaxis": "y"
        },
        {
         "alignmentgroup": "True",
         "bingroup": "x",
         "histfunc": "sum",
         "hovertemplate": "Genres=Fantasy<br>Année=%{x}<br>sum of Pourcentage=%{y}<extra></extra>",
         "legendgroup": "Fantasy",
         "marker": {
          "color": "#636efa",
          "pattern": {
           "shape": ""
          }
         },
         "name": "Fantasy",
         "offsetgroup": "Fantasy",
         "orientation": "v",
         "showlegend": true,
         "type": "histogram",
         "x": [
          1910,
          1920,
          1930,
          1940,
          1950,
          1960,
          1970,
          1980,
          1990,
          2000,
          2010,
          2020
         ],
         "xaxis": "x",
         "y": [
          0.49668874172185434,
          2.152317880794702,
          2.3178807947019866,
          6.125827814569536,
          4.801324503311259,
          4.13907284768212,
          7.450331125827815,
          11.258278145695364,
          13.57615894039735,
          16.55629139072848,
          21.85430463576159,
          9.271523178807946
         ],
         "yaxis": "y"
        },
        {
         "alignmentgroup": "True",
         "bingroup": "x",
         "histfunc": "sum",
         "hovertemplate": "Genres=Film-Noir<br>Année=%{x}<br>sum of Pourcentage=%{y}<extra></extra>",
         "legendgroup": "Film-Noir",
         "marker": {
          "color": "#EF553B",
          "pattern": {
           "shape": ""
          }
         },
         "name": "Film-Noir",
         "offsetgroup": "Film-Noir",
         "orientation": "v",
         "showlegend": true,
         "type": "histogram",
         "x": [
          1910,
          1920,
          1930,
          1940,
          1950,
          1960,
          1970,
          1980,
          1990,
          2000,
          2010,
          2020
         ],
         "xaxis": "x",
         "y": [
          null,
          0.9259259259259258,
          7.4074074074074066,
          52.77777777777778,
          38.88888888888889,
          null,
          null,
          null,
          null,
          null,
          null,
          null
         ],
         "yaxis": "y"
        },
        {
         "alignmentgroup": "True",
         "bingroup": "x",
         "histfunc": "sum",
         "hovertemplate": "Genres=History<br>Année=%{x}<br>sum of Pourcentage=%{y}<extra></extra>",
         "legendgroup": "History",
         "marker": {
          "color": "#00cc96",
          "pattern": {
           "shape": ""
          }
         },
         "name": "History",
         "offsetgroup": "History",
         "orientation": "v",
         "showlegend": true,
         "type": "histogram",
         "x": [
          1910,
          1920,
          1930,
          1940,
          1950,
          1960,
          1970,
          1980,
          1990,
          2000,
          2010,
          2020
         ],
         "xaxis": "x",
         "y": [
          0.4036326942482341,
          0.7063572149344097,
          2.119071644803229,
          2.4217961654894045,
          2.825428859737639,
          5.953582240161452,
          6.760847628657922,
          8.375378405650856,
          8.577194752774975,
          17.759838546922303,
          32.29061553985873,
          11.806256306760847
         ],
         "yaxis": "y"
        },
        {
         "alignmentgroup": "True",
         "bingroup": "x",
         "histfunc": "sum",
         "hovertemplate": "Genres=Horror<br>Année=%{x}<br>sum of Pourcentage=%{y}<extra></extra>",
         "legendgroup": "Horror",
         "marker": {
          "color": "#ab63fa",
          "pattern": {
           "shape": ""
          }
         },
         "name": "Horror",
         "offsetgroup": "Horror",
         "orientation": "v",
         "showlegend": true,
         "type": "histogram",
         "x": [
          1910,
          1920,
          1930,
          1940,
          1950,
          1960,
          1970,
          1980,
          1990,
          2000,
          2010,
          2020
         ],
         "xaxis": "x",
         "y": [
          0.2232142857142857,
          4.910714285714286,
          4.017857142857143,
          5.133928571428571,
          3.7946428571428568,
          9.821428571428571,
          10.9375,
          10.491071428571429,
          8.705357142857142,
          12.276785714285714,
          16.294642857142858,
          13.392857142857142
         ],
         "yaxis": "y"
        },
        {
         "alignmentgroup": "True",
         "bingroup": "x",
         "histfunc": "sum",
         "hovertemplate": "Genres=Music<br>Année=%{x}<br>sum of Pourcentage=%{y}<extra></extra>",
         "legendgroup": "Music",
         "marker": {
          "color": "#FFA15A",
          "pattern": {
           "shape": ""
          }
         },
         "name": "Music",
         "offsetgroup": "Music",
         "orientation": "v",
         "showlegend": true,
         "type": "histogram",
         "x": [
          1910,
          1920,
          1930,
          1940,
          1950,
          1960,
          1970,
          1980,
          1990,
          2000,
          2010,
          2020
         ],
         "xaxis": "x",
         "y": [
          null,
          null,
          1.0159651669085632,
          1.8867924528301887,
          2.7576197387518144,
          1.8867924528301887,
          6.2409288824383164,
          10.88534107402032,
          10.014513788098693,
          22.206095791001452,
          31.204644412191584,
          11.901306240928882
         ],
         "yaxis": "y"
        },
        {
         "alignmentgroup": "True",
         "bingroup": "x",
         "histfunc": "sum",
         "hovertemplate": "Genres=Musical<br>Année=%{x}<br>sum of Pourcentage=%{y}<extra></extra>",
         "legendgroup": "Musical",
         "marker": {
          "color": "#19d3f3",
          "pattern": {
           "shape": ""
          }
         },
         "name": "Musical",
         "offsetgroup": "Musical",
         "orientation": "v",
         "showlegend": true,
         "type": "histogram",
         "x": [
          1910,
          1920,
          1930,
          1940,
          1950,
          1960,
          1970,
          1980,
          1990,
          2000,
          2010,
          2020
         ],
         "xaxis": "x",
         "y": [
          null,
          0.6472491909385114,
          11.326860841423949,
          6.148867313915858,
          12.297734627831716,
          9.06148867313916,
          10.679611650485436,
          9.385113268608414,
          8.737864077669903,
          12.944983818770226,
          12.944983818770226,
          5.825242718446602
         ],
         "yaxis": "y"
        },
        {
         "alignmentgroup": "True",
         "bingroup": "x",
         "histfunc": "sum",
         "hovertemplate": "Genres=Mystery<br>Année=%{x}<br>sum of Pourcentage=%{y}<extra></extra>",
         "legendgroup": "Mystery",
         "marker": {
          "color": "#FF6692",
          "pattern": {
           "shape": ""
          }
         },
         "name": "Mystery",
         "offsetgroup": "Mystery",
         "orientation": "v",
         "showlegend": true,
         "type": "histogram",
         "x": [
          1910,
          1920,
          1930,
          1940,
          1950,
          1960,
          1970,
          1980,
          1990,
          2000,
          2010,
          2020
         ],
         "xaxis": "x",
         "y": [
          0.10905125408942204,
          0.9814612868047983,
          3.816793893129771,
          6.106870229007633,
          4.580152671755725,
          6.761177753544166,
          8.287895310796074,
          5.997818974918212,
          10.577971646673937,
          16.793893129770993,
          24.427480916030532,
          11.559432933478735
         ],
         "yaxis": "y"
        },
        {
         "alignmentgroup": "True",
         "bingroup": "x",
         "histfunc": "sum",
         "hovertemplate": "Genres=News<br>Année=%{x}<br>sum of Pourcentage=%{y}<extra></extra>",
         "legendgroup": "News",
         "marker": {
          "color": "#B6E880",
          "pattern": {
           "shape": ""
          }
         },
         "name": "News",
         "offsetgroup": "News",
         "orientation": "v",
         "showlegend": true,
         "type": "histogram",
         "x": [
          1910,
          1920,
          1930,
          1940,
          1950,
          1960,
          1970,
          1980,
          1990,
          2000,
          2010,
          2020
         ],
         "xaxis": "x",
         "y": [
          null,
          null,
          null,
          null,
          null,
          3.571428571428571,
          null,
          null,
          null,
          14.285714285714285,
          78.57142857142857,
          3.571428571428571
         ],
         "yaxis": "y"
        },
        {
         "alignmentgroup": "True",
         "bingroup": "x",
         "histfunc": "sum",
         "hovertemplate": "Genres=Romance<br>Année=%{x}<br>sum of Pourcentage=%{y}<extra></extra>",
         "legendgroup": "Romance",
         "marker": {
          "color": "#FF97FF",
          "pattern": {
           "shape": ""
          }
         },
         "name": "Romance",
         "offsetgroup": "Romance",
         "orientation": "v",
         "showlegend": true,
         "type": "histogram",
         "x": [
          1910,
          1920,
          1930,
          1940,
          1950,
          1960,
          1970,
          1980,
          1990,
          2000,
          2010,
          2020
         ],
         "xaxis": "x",
         "y": [
          0.15065913370998116,
          2.0338983050847457,
          5.875706214689266,
          5.800376647834275,
          6.252354048964219,
          6.4030131826742,
          5.536723163841808,
          7.193973634651601,
          11.337099811676083,
          19.472693032015066,
          20.112994350282488,
          9.830508474576272
         ],
         "yaxis": "y"
        },
        {
         "alignmentgroup": "True",
         "bingroup": "x",
         "histfunc": "sum",
         "hovertemplate": "Genres=Sci-Fi<br>Année=%{x}<br>sum of Pourcentage=%{y}<extra></extra>",
         "legendgroup": "Sci-Fi",
         "marker": {
          "color": "#FECB52",
          "pattern": {
           "shape": ""
          }
         },
         "name": "Sci-Fi",
         "offsetgroup": "Sci-Fi",
         "orientation": "v",
         "showlegend": true,
         "type": "histogram",
         "x": [
          1910,
          1920,
          1930,
          1940,
          1950,
          1960,
          1970,
          1980,
          1990,
          2000,
          2010,
          2020
         ],
         "xaxis": "x",
         "y": [
          0.3144654088050315,
          0.9433962264150944,
          2.515723270440252,
          null,
          5.031446540880504,
          4.40251572327044,
          7.861635220125786,
          16.037735849056602,
          10.377358490566039,
          16.352201257861633,
          27.9874213836478,
          8.176100628930817
         ],
         "yaxis": "y"
        },
        {
         "alignmentgroup": "True",
         "bingroup": "x",
         "histfunc": "sum",
         "hovertemplate": "Genres=Sport<br>Année=%{x}<br>sum of Pourcentage=%{y}<extra></extra>",
         "legendgroup": "Sport",
         "marker": {
          "color": "#636efa",
          "pattern": {
           "shape": ""
          }
         },
         "name": "Sport",
         "offsetgroup": "Sport",
         "orientation": "v",
         "showlegend": true,
         "type": "histogram",
         "x": [
          1910,
          1920,
          1930,
          1940,
          1950,
          1960,
          1970,
          1980,
          1990,
          2000,
          2010,
          2020
         ],
         "xaxis": "x",
         "y": [
          null,
          0.5208333333333333,
          0.78125,
          1.3020833333333335,
          1.8229166666666667,
          2.34375,
          4.947916666666666,
          3.90625,
          8.854166666666668,
          20.052083333333336,
          39.32291666666667,
          16.145833333333336
         ],
         "yaxis": "y"
        },
        {
         "alignmentgroup": "True",
         "bingroup": "x",
         "histfunc": "sum",
         "hovertemplate": "Genres=Thriller<br>Année=%{x}<br>sum of Pourcentage=%{y}<extra></extra>",
         "legendgroup": "Thriller",
         "marker": {
          "color": "#EF553B",
          "pattern": {
           "shape": ""
          }
         },
         "name": "Thriller",
         "offsetgroup": "Thriller",
         "orientation": "v",
         "showlegend": true,
         "type": "histogram",
         "x": [
          1910,
          1920,
          1930,
          1940,
          1950,
          1960,
          1970,
          1980,
          1990,
          2000,
          2010,
          2020
         ],
         "xaxis": "x",
         "y": [
          null,
          0.7988380537400145,
          1.016702977487291,
          2.541757443718228,
          3.631082062454612,
          5.954974582425563,
          7.625272331154684,
          5.519244734931009,
          10.167029774872912,
          16.412490922294847,
          26.724763979665937,
          19.607843137254903
         ],
         "yaxis": "y"
        },
        {
         "alignmentgroup": "True",
         "bingroup": "x",
         "histfunc": "sum",
         "hovertemplate": "Genres=War<br>Année=%{x}<br>sum of Pourcentage=%{y}<extra></extra>",
         "legendgroup": "War",
         "marker": {
          "color": "#00cc96",
          "pattern": {
           "shape": ""
          }
         },
         "name": "War",
         "offsetgroup": "War",
         "orientation": "v",
         "showlegend": true,
         "type": "histogram",
         "x": [
          1910,
          1920,
          1930,
          1940,
          1950,
          1960,
          1970,
          1980,
          1990,
          2000,
          2010,
          2020
         ],
         "xaxis": "x",
         "y": [
          0.3189792663476874,
          0.7974481658692184,
          3.0303030303030303,
          8.61244019138756,
          10.207336523125997,
          13.237639553429027,
          8.771929824561402,
          6.539074960127592,
          10.526315789473683,
          18.022328548644335,
          15.629984051036683,
          4.30622009569378
         ],
         "yaxis": "y"
        },
        {
         "alignmentgroup": "True",
         "bingroup": "x",
         "histfunc": "sum",
         "hovertemplate": "Genres=Western<br>Année=%{x}<br>sum of Pourcentage=%{y}<extra></extra>",
         "legendgroup": "Western",
         "marker": {
          "color": "#ab63fa",
          "pattern": {
           "shape": ""
          }
         },
         "name": "Western",
         "offsetgroup": "Western",
         "orientation": "v",
         "showlegend": true,
         "type": "histogram",
         "x": [
          1910,
          1920,
          1930,
          1940,
          1950,
          1960,
          1970,
          1980,
          1990,
          2000,
          2010,
          2020
         ],
         "xaxis": "x",
         "y": [
          null,
          3.1578947368421053,
          3.684210526315789,
          9.473684210526317,
          26.842105263157894,
          20,
          15.263157894736842,
          2.1052631578947367,
          4.736842105263158,
          5.263157894736842,
          8.947368421052632,
          0.5263157894736842
         ],
         "yaxis": "y"
        },
        {
         "alignmentgroup": "True",
         "bingroup": "x",
         "histfunc": "sum",
         "hovertemplate": "Genres=\\N<br>Année=%{x}<br>sum of Pourcentage=%{y}<extra></extra>",
         "legendgroup": "\\N",
         "marker": {
          "color": "#FFA15A",
          "pattern": {
           "shape": ""
          }
         },
         "name": "\\N",
         "offsetgroup": "\\N",
         "orientation": "v",
         "showlegend": true,
         "type": "histogram",
         "x": [
          1910,
          1920,
          1930,
          1940,
          1950,
          1960,
          1970,
          1980,
          1990,
          2000,
          2010,
          2020
         ],
         "xaxis": "x",
         "y": [
          null,
          null,
          null,
          null,
          null,
          null,
          null,
          null,
          null,
          null,
          7.142857142857142,
          92.85714285714286
         ],
         "yaxis": "y"
        }
       ],
       "layout": {
        "barmode": "relative",
        "legend": {
         "title": {
          "text": "Genres"
         },
         "tracegroupgap": 0
        },
        "template": {
         "data": {
          "bar": [
           {
            "error_x": {
             "color": "#2a3f5f"
            },
            "error_y": {
             "color": "#2a3f5f"
            },
            "marker": {
             "line": {
              "color": "#E5ECF6",
              "width": 0.5
             },
             "pattern": {
              "fillmode": "overlay",
              "size": 10,
              "solidity": 0.2
             }
            },
            "type": "bar"
           }
          ],
          "barpolar": [
           {
            "marker": {
             "line": {
              "color": "#E5ECF6",
              "width": 0.5
             },
             "pattern": {
              "fillmode": "overlay",
              "size": 10,
              "solidity": 0.2
             }
            },
            "type": "barpolar"
           }
          ],
          "carpet": [
           {
            "aaxis": {
             "endlinecolor": "#2a3f5f",
             "gridcolor": "white",
             "linecolor": "white",
             "minorgridcolor": "white",
             "startlinecolor": "#2a3f5f"
            },
            "baxis": {
             "endlinecolor": "#2a3f5f",
             "gridcolor": "white",
             "linecolor": "white",
             "minorgridcolor": "white",
             "startlinecolor": "#2a3f5f"
            },
            "type": "carpet"
           }
          ],
          "choropleth": [
           {
            "colorbar": {
             "outlinewidth": 0,
             "ticks": ""
            },
            "type": "choropleth"
           }
          ],
          "contour": [
           {
            "colorbar": {
             "outlinewidth": 0,
             "ticks": ""
            },
            "colorscale": [
             [
              0,
              "#0d0887"
             ],
             [
              0.1111111111111111,
              "#46039f"
             ],
             [
              0.2222222222222222,
              "#7201a8"
             ],
             [
              0.3333333333333333,
              "#9c179e"
             ],
             [
              0.4444444444444444,
              "#bd3786"
             ],
             [
              0.5555555555555556,
              "#d8576b"
             ],
             [
              0.6666666666666666,
              "#ed7953"
             ],
             [
              0.7777777777777778,
              "#fb9f3a"
             ],
             [
              0.8888888888888888,
              "#fdca26"
             ],
             [
              1,
              "#f0f921"
             ]
            ],
            "type": "contour"
           }
          ],
          "contourcarpet": [
           {
            "colorbar": {
             "outlinewidth": 0,
             "ticks": ""
            },
            "type": "contourcarpet"
           }
          ],
          "heatmap": [
           {
            "colorbar": {
             "outlinewidth": 0,
             "ticks": ""
            },
            "colorscale": [
             [
              0,
              "#0d0887"
             ],
             [
              0.1111111111111111,
              "#46039f"
             ],
             [
              0.2222222222222222,
              "#7201a8"
             ],
             [
              0.3333333333333333,
              "#9c179e"
             ],
             [
              0.4444444444444444,
              "#bd3786"
             ],
             [
              0.5555555555555556,
              "#d8576b"
             ],
             [
              0.6666666666666666,
              "#ed7953"
             ],
             [
              0.7777777777777778,
              "#fb9f3a"
             ],
             [
              0.8888888888888888,
              "#fdca26"
             ],
             [
              1,
              "#f0f921"
             ]
            ],
            "type": "heatmap"
           }
          ],
          "heatmapgl": [
           {
            "colorbar": {
             "outlinewidth": 0,
             "ticks": ""
            },
            "colorscale": [
             [
              0,
              "#0d0887"
             ],
             [
              0.1111111111111111,
              "#46039f"
             ],
             [
              0.2222222222222222,
              "#7201a8"
             ],
             [
              0.3333333333333333,
              "#9c179e"
             ],
             [
              0.4444444444444444,
              "#bd3786"
             ],
             [
              0.5555555555555556,
              "#d8576b"
             ],
             [
              0.6666666666666666,
              "#ed7953"
             ],
             [
              0.7777777777777778,
              "#fb9f3a"
             ],
             [
              0.8888888888888888,
              "#fdca26"
             ],
             [
              1,
              "#f0f921"
             ]
            ],
            "type": "heatmapgl"
           }
          ],
          "histogram": [
           {
            "marker": {
             "pattern": {
              "fillmode": "overlay",
              "size": 10,
              "solidity": 0.2
             }
            },
            "type": "histogram"
           }
          ],
          "histogram2d": [
           {
            "colorbar": {
             "outlinewidth": 0,
             "ticks": ""
            },
            "colorscale": [
             [
              0,
              "#0d0887"
             ],
             [
              0.1111111111111111,
              "#46039f"
             ],
             [
              0.2222222222222222,
              "#7201a8"
             ],
             [
              0.3333333333333333,
              "#9c179e"
             ],
             [
              0.4444444444444444,
              "#bd3786"
             ],
             [
              0.5555555555555556,
              "#d8576b"
             ],
             [
              0.6666666666666666,
              "#ed7953"
             ],
             [
              0.7777777777777778,
              "#fb9f3a"
             ],
             [
              0.8888888888888888,
              "#fdca26"
             ],
             [
              1,
              "#f0f921"
             ]
            ],
            "type": "histogram2d"
           }
          ],
          "histogram2dcontour": [
           {
            "colorbar": {
             "outlinewidth": 0,
             "ticks": ""
            },
            "colorscale": [
             [
              0,
              "#0d0887"
             ],
             [
              0.1111111111111111,
              "#46039f"
             ],
             [
              0.2222222222222222,
              "#7201a8"
             ],
             [
              0.3333333333333333,
              "#9c179e"
             ],
             [
              0.4444444444444444,
              "#bd3786"
             ],
             [
              0.5555555555555556,
              "#d8576b"
             ],
             [
              0.6666666666666666,
              "#ed7953"
             ],
             [
              0.7777777777777778,
              "#fb9f3a"
             ],
             [
              0.8888888888888888,
              "#fdca26"
             ],
             [
              1,
              "#f0f921"
             ]
            ],
            "type": "histogram2dcontour"
           }
          ],
          "mesh3d": [
           {
            "colorbar": {
             "outlinewidth": 0,
             "ticks": ""
            },
            "type": "mesh3d"
           }
          ],
          "parcoords": [
           {
            "line": {
             "colorbar": {
              "outlinewidth": 0,
              "ticks": ""
             }
            },
            "type": "parcoords"
           }
          ],
          "pie": [
           {
            "automargin": true,
            "type": "pie"
           }
          ],
          "scatter": [
           {
            "fillpattern": {
             "fillmode": "overlay",
             "size": 10,
             "solidity": 0.2
            },
            "type": "scatter"
           }
          ],
          "scatter3d": [
           {
            "line": {
             "colorbar": {
              "outlinewidth": 0,
              "ticks": ""
             }
            },
            "marker": {
             "colorbar": {
              "outlinewidth": 0,
              "ticks": ""
             }
            },
            "type": "scatter3d"
           }
          ],
          "scattercarpet": [
           {
            "marker": {
             "colorbar": {
              "outlinewidth": 0,
              "ticks": ""
             }
            },
            "type": "scattercarpet"
           }
          ],
          "scattergeo": [
           {
            "marker": {
             "colorbar": {
              "outlinewidth": 0,
              "ticks": ""
             }
            },
            "type": "scattergeo"
           }
          ],
          "scattergl": [
           {
            "marker": {
             "colorbar": {
              "outlinewidth": 0,
              "ticks": ""
             }
            },
            "type": "scattergl"
           }
          ],
          "scattermapbox": [
           {
            "marker": {
             "colorbar": {
              "outlinewidth": 0,
              "ticks": ""
             }
            },
            "type": "scattermapbox"
           }
          ],
          "scatterpolar": [
           {
            "marker": {
             "colorbar": {
              "outlinewidth": 0,
              "ticks": ""
             }
            },
            "type": "scatterpolar"
           }
          ],
          "scatterpolargl": [
           {
            "marker": {
             "colorbar": {
              "outlinewidth": 0,
              "ticks": ""
             }
            },
            "type": "scatterpolargl"
           }
          ],
          "scatterternary": [
           {
            "marker": {
             "colorbar": {
              "outlinewidth": 0,
              "ticks": ""
             }
            },
            "type": "scatterternary"
           }
          ],
          "surface": [
           {
            "colorbar": {
             "outlinewidth": 0,
             "ticks": ""
            },
            "colorscale": [
             [
              0,
              "#0d0887"
             ],
             [
              0.1111111111111111,
              "#46039f"
             ],
             [
              0.2222222222222222,
              "#7201a8"
             ],
             [
              0.3333333333333333,
              "#9c179e"
             ],
             [
              0.4444444444444444,
              "#bd3786"
             ],
             [
              0.5555555555555556,
              "#d8576b"
             ],
             [
              0.6666666666666666,
              "#ed7953"
             ],
             [
              0.7777777777777778,
              "#fb9f3a"
             ],
             [
              0.8888888888888888,
              "#fdca26"
             ],
             [
              1,
              "#f0f921"
             ]
            ],
            "type": "surface"
           }
          ],
          "table": [
           {
            "cells": {
             "fill": {
              "color": "#EBF0F8"
             },
             "line": {
              "color": "white"
             }
            },
            "header": {
             "fill": {
              "color": "#C8D4E3"
             },
             "line": {
              "color": "white"
             }
            },
            "type": "table"
           }
          ]
         },
         "layout": {
          "annotationdefaults": {
           "arrowcolor": "#2a3f5f",
           "arrowhead": 0,
           "arrowwidth": 1
          },
          "autotypenumbers": "strict",
          "coloraxis": {
           "colorbar": {
            "outlinewidth": 0,
            "ticks": ""
           }
          },
          "colorscale": {
           "diverging": [
            [
             0,
             "#8e0152"
            ],
            [
             0.1,
             "#c51b7d"
            ],
            [
             0.2,
             "#de77ae"
            ],
            [
             0.3,
             "#f1b6da"
            ],
            [
             0.4,
             "#fde0ef"
            ],
            [
             0.5,
             "#f7f7f7"
            ],
            [
             0.6,
             "#e6f5d0"
            ],
            [
             0.7,
             "#b8e186"
            ],
            [
             0.8,
             "#7fbc41"
            ],
            [
             0.9,
             "#4d9221"
            ],
            [
             1,
             "#276419"
            ]
           ],
           "sequential": [
            [
             0,
             "#0d0887"
            ],
            [
             0.1111111111111111,
             "#46039f"
            ],
            [
             0.2222222222222222,
             "#7201a8"
            ],
            [
             0.3333333333333333,
             "#9c179e"
            ],
            [
             0.4444444444444444,
             "#bd3786"
            ],
            [
             0.5555555555555556,
             "#d8576b"
            ],
            [
             0.6666666666666666,
             "#ed7953"
            ],
            [
             0.7777777777777778,
             "#fb9f3a"
            ],
            [
             0.8888888888888888,
             "#fdca26"
            ],
            [
             1,
             "#f0f921"
            ]
           ],
           "sequentialminus": [
            [
             0,
             "#0d0887"
            ],
            [
             0.1111111111111111,
             "#46039f"
            ],
            [
             0.2222222222222222,
             "#7201a8"
            ],
            [
             0.3333333333333333,
             "#9c179e"
            ],
            [
             0.4444444444444444,
             "#bd3786"
            ],
            [
             0.5555555555555556,
             "#d8576b"
            ],
            [
             0.6666666666666666,
             "#ed7953"
            ],
            [
             0.7777777777777778,
             "#fb9f3a"
            ],
            [
             0.8888888888888888,
             "#fdca26"
            ],
            [
             1,
             "#f0f921"
            ]
           ]
          },
          "colorway": [
           "#636efa",
           "#EF553B",
           "#00cc96",
           "#ab63fa",
           "#FFA15A",
           "#19d3f3",
           "#FF6692",
           "#B6E880",
           "#FF97FF",
           "#FECB52"
          ],
          "font": {
           "color": "#2a3f5f"
          },
          "geo": {
           "bgcolor": "white",
           "lakecolor": "white",
           "landcolor": "#E5ECF6",
           "showlakes": true,
           "showland": true,
           "subunitcolor": "white"
          },
          "hoverlabel": {
           "align": "left"
          },
          "hovermode": "closest",
          "mapbox": {
           "style": "light"
          },
          "paper_bgcolor": "white",
          "plot_bgcolor": "#E5ECF6",
          "polar": {
           "angularaxis": {
            "gridcolor": "white",
            "linecolor": "white",
            "ticks": ""
           },
           "bgcolor": "#E5ECF6",
           "radialaxis": {
            "gridcolor": "white",
            "linecolor": "white",
            "ticks": ""
           }
          },
          "scene": {
           "xaxis": {
            "backgroundcolor": "#E5ECF6",
            "gridcolor": "white",
            "gridwidth": 2,
            "linecolor": "white",
            "showbackground": true,
            "ticks": "",
            "zerolinecolor": "white"
           },
           "yaxis": {
            "backgroundcolor": "#E5ECF6",
            "gridcolor": "white",
            "gridwidth": 2,
            "linecolor": "white",
            "showbackground": true,
            "ticks": "",
            "zerolinecolor": "white"
           },
           "zaxis": {
            "backgroundcolor": "#E5ECF6",
            "gridcolor": "white",
            "gridwidth": 2,
            "linecolor": "white",
            "showbackground": true,
            "ticks": "",
            "zerolinecolor": "white"
           }
          },
          "shapedefaults": {
           "line": {
            "color": "#2a3f5f"
           }
          },
          "ternary": {
           "aaxis": {
            "gridcolor": "white",
            "linecolor": "white",
            "ticks": ""
           },
           "baxis": {
            "gridcolor": "white",
            "linecolor": "white",
            "ticks": ""
           },
           "bgcolor": "#E5ECF6",
           "caxis": {
            "gridcolor": "white",
            "linecolor": "white",
            "ticks": ""
           }
          },
          "title": {
           "x": 0.05
          },
          "xaxis": {
           "automargin": true,
           "gridcolor": "white",
           "linecolor": "white",
           "ticks": "",
           "title": {
            "standoff": 15
           },
           "zerolinecolor": "white",
           "zerolinewidth": 2
          },
          "yaxis": {
           "automargin": true,
           "gridcolor": "white",
           "linecolor": "white",
           "ticks": "",
           "title": {
            "standoff": 15
           },
           "zerolinecolor": "white",
           "zerolinewidth": 2
          }
         }
        },
        "title": {
         "text": "Pourcentage des Genres par Bucket Année"
        },
        "xaxis": {
         "anchor": "y",
         "domain": [
          0,
          1
         ],
         "title": {
          "text": "Année"
         }
        },
        "yaxis": {
         "anchor": "x",
         "domain": [
          0,
          1
         ],
         "title": {
          "text": "sum of Pourcentage"
         }
        }
       }
      }
     },
     "metadata": {},
     "output_type": "display_data"
    }
   ],
   "source": [
    "import pandas as pd\n",
    "import plotly.express as px\n",
    "\n",
    "# Reprenant ton DataFrame pivoté\n",
    "df_pivot_exploded = df_exploded.pivot_table(columns='bucket 10', index='genres', aggfunc='count', values='originalTitle')\n",
    "\n",
    "# Calculer le total par genre pour la normalisation\n",
    "genre_totals = df_pivot_exploded.sum(axis=1)\n",
    "\n",
    "# Calculer les pourcentages pour chaque bucket\n",
    "df_pivot_percentage = df_pivot_exploded.div(genre_totals, axis=0) * 100\n",
    "\n",
    "# Réinitialiser l'index pour utiliser dans Plotly Express\n",
    "df_pivot_percentage = df_pivot_percentage.reset_index()\n",
    "\n",
    "# Transformer le DataFrame pour Plotly Express\n",
    "df_melted = df_pivot_percentage.melt(id_vars='genres', var_name='bucket', value_name='percentage')\n",
    "\n",
    "# Créer un graphique en ligne avec Plotly Express\n",
    "fig = px.histogram(df_melted, x='bucket', y='percentage', color='genres', title='Pourcentage des Genres par Bucket Année',\n",
    "              labels={'percentage': 'Pourcentage', 'bucket': 'Année', 'genres': 'Genres'})\n",
    "\n",
    "# Afficher le graphique\n",
    "fig.show()\n"
   ]
  },
  {
   "cell_type": "code",
   "execution_count": null,
   "metadata": {},
   "outputs": [
    {
     "name": "stdout",
     "output_type": "stream",
     "text": [
      "<class 'pandas.core.frame.DataFrame'>\n",
      "RangeIndex: 390149 entries, 0 to 390148\n",
      "Data columns (total 20 columns):\n",
      " #   Column           Non-Null Count   Dtype  \n",
      "---  ------           --------------   -----  \n",
      " 0   titleId          390149 non-null  object \n",
      " 1   ordering         390149 non-null  int64  \n",
      " 2   title            390149 non-null  object \n",
      " 3   region           390149 non-null  object \n",
      " 4   language         390149 non-null  object \n",
      " 5   types            390149 non-null  object \n",
      " 6   attributes       390149 non-null  object \n",
      " 7   isOriginalTitle  390149 non-null  int64  \n",
      " 8   tconst           390149 non-null  object \n",
      " 9   titleType        390149 non-null  object \n",
      " 10  primaryTitle     390149 non-null  object \n",
      " 11  originalTitle    390149 non-null  object \n",
      " 12  isAdult          390149 non-null  object \n",
      " 13  startYear        390149 non-null  int32  \n",
      " 14  endYear          390149 non-null  object \n",
      " 15  runtimeMinutes   390149 non-null  object \n",
      " 16  genres           390149 non-null  object \n",
      " 17  averageRating    390149 non-null  float64\n",
      " 18  numVotes         390149 non-null  int64  \n",
      " 19  bucket 10        390149 non-null  int32  \n",
      "dtypes: float64(1), int32(2), int64(3), object(14)\n",
      "memory usage: 56.6+ MB\n"
     ]
    },
    {
     "data": {
      "text/html": [
       "<div>\n",
       "<style scoped>\n",
       "    .dataframe tbody tr th:only-of-type {\n",
       "        vertical-align: middle;\n",
       "    }\n",
       "\n",
       "    .dataframe tbody tr th {\n",
       "        vertical-align: top;\n",
       "    }\n",
       "\n",
       "    .dataframe thead th {\n",
       "        text-align: right;\n",
       "    }\n",
       "</style>\n",
       "<table border=\"1\" class=\"dataframe\">\n",
       "  <thead>\n",
       "    <tr style=\"text-align: right;\">\n",
       "      <th></th>\n",
       "      <th>titleId</th>\n",
       "      <th>ordering</th>\n",
       "      <th>title</th>\n",
       "      <th>region</th>\n",
       "      <th>language</th>\n",
       "      <th>types</th>\n",
       "      <th>attributes</th>\n",
       "      <th>isOriginalTitle</th>\n",
       "      <th>tconst</th>\n",
       "      <th>titleType</th>\n",
       "      <th>primaryTitle</th>\n",
       "      <th>originalTitle</th>\n",
       "      <th>isAdult</th>\n",
       "      <th>startYear</th>\n",
       "      <th>endYear</th>\n",
       "      <th>runtimeMinutes</th>\n",
       "      <th>genres</th>\n",
       "      <th>averageRating</th>\n",
       "      <th>numVotes</th>\n",
       "      <th>bucket 10</th>\n",
       "    </tr>\n",
       "  </thead>\n",
       "  <tbody>\n",
       "    <tr>\n",
       "      <th>0</th>\n",
       "      <td>tt0002130</td>\n",
       "      <td>1</td>\n",
       "      <td>L'inferno</td>\n",
       "      <td>\\N</td>\n",
       "      <td>\\N</td>\n",
       "      <td>original</td>\n",
       "      <td>\\N</td>\n",
       "      <td>1</td>\n",
       "      <td>tt0002130</td>\n",
       "      <td>movie</td>\n",
       "      <td>Dante's Inferno</td>\n",
       "      <td>L'inferno</td>\n",
       "      <td>0</td>\n",
       "      <td>1911</td>\n",
       "      <td>\\N</td>\n",
       "      <td>71</td>\n",
       "      <td>Adventure,Drama,Fantasy</td>\n",
       "      <td>7.0</td>\n",
       "      <td>3647</td>\n",
       "      <td>1910</td>\n",
       "    </tr>\n",
       "    <tr>\n",
       "      <th>20</th>\n",
       "      <td>tt0002844</td>\n",
       "      <td>1</td>\n",
       "      <td>Fantômas I: À l'ombre de la guillotine</td>\n",
       "      <td>\\N</td>\n",
       "      <td>\\N</td>\n",
       "      <td>original</td>\n",
       "      <td>\\N</td>\n",
       "      <td>1</td>\n",
       "      <td>tt0002844</td>\n",
       "      <td>movie</td>\n",
       "      <td>Fantômas: In the Shadow of the Guillotine</td>\n",
       "      <td>Fantômas I: À l'ombre de la guillotine</td>\n",
       "      <td>0</td>\n",
       "      <td>1913</td>\n",
       "      <td>\\N</td>\n",
       "      <td>54</td>\n",
       "      <td>Crime,Drama</td>\n",
       "      <td>6.9</td>\n",
       "      <td>2561</td>\n",
       "      <td>1910</td>\n",
       "    </tr>\n",
       "    <tr>\n",
       "      <th>21</th>\n",
       "      <td>tt0002844</td>\n",
       "      <td>10</td>\n",
       "      <td>The Phantom Crook</td>\n",
       "      <td>\\N</td>\n",
       "      <td>\\N</td>\n",
       "      <td>\\N</td>\n",
       "      <td>\\N</td>\n",
       "      <td>0</td>\n",
       "      <td>tt0002844</td>\n",
       "      <td>movie</td>\n",
       "      <td>Fantômas: In the Shadow of the Guillotine</td>\n",
       "      <td>Fantômas I: À l'ombre de la guillotine</td>\n",
       "      <td>0</td>\n",
       "      <td>1913</td>\n",
       "      <td>\\N</td>\n",
       "      <td>54</td>\n",
       "      <td>Crime,Drama</td>\n",
       "      <td>6.9</td>\n",
       "      <td>2561</td>\n",
       "      <td>1910</td>\n",
       "    </tr>\n",
       "    <tr>\n",
       "      <th>24</th>\n",
       "      <td>tt0002844</td>\n",
       "      <td>13</td>\n",
       "      <td>Fantômas</td>\n",
       "      <td>\\N</td>\n",
       "      <td>\\N</td>\n",
       "      <td>\\N</td>\n",
       "      <td>\\N</td>\n",
       "      <td>0</td>\n",
       "      <td>tt0002844</td>\n",
       "      <td>movie</td>\n",
       "      <td>Fantômas: In the Shadow of the Guillotine</td>\n",
       "      <td>Fantômas I: À l'ombre de la guillotine</td>\n",
       "      <td>0</td>\n",
       "      <td>1913</td>\n",
       "      <td>\\N</td>\n",
       "      <td>54</td>\n",
       "      <td>Crime,Drama</td>\n",
       "      <td>6.9</td>\n",
       "      <td>2561</td>\n",
       "      <td>1910</td>\n",
       "    </tr>\n",
       "    <tr>\n",
       "      <th>48</th>\n",
       "      <td>tt0003014</td>\n",
       "      <td>1</td>\n",
       "      <td>Ingeborg Holm</td>\n",
       "      <td>\\N</td>\n",
       "      <td>\\N</td>\n",
       "      <td>original</td>\n",
       "      <td>\\N</td>\n",
       "      <td>1</td>\n",
       "      <td>tt0003014</td>\n",
       "      <td>movie</td>\n",
       "      <td>Ingeborg Holm</td>\n",
       "      <td>Ingeborg Holm</td>\n",
       "      <td>0</td>\n",
       "      <td>1913</td>\n",
       "      <td>\\N</td>\n",
       "      <td>96</td>\n",
       "      <td>Drama</td>\n",
       "      <td>7.0</td>\n",
       "      <td>1478</td>\n",
       "      <td>1910</td>\n",
       "    </tr>\n",
       "    <tr>\n",
       "      <th>...</th>\n",
       "      <td>...</td>\n",
       "      <td>...</td>\n",
       "      <td>...</td>\n",
       "      <td>...</td>\n",
       "      <td>...</td>\n",
       "      <td>...</td>\n",
       "      <td>...</td>\n",
       "      <td>...</td>\n",
       "      <td>...</td>\n",
       "      <td>...</td>\n",
       "      <td>...</td>\n",
       "      <td>...</td>\n",
       "      <td>...</td>\n",
       "      <td>...</td>\n",
       "      <td>...</td>\n",
       "      <td>...</td>\n",
       "      <td>...</td>\n",
       "      <td>...</td>\n",
       "      <td>...</td>\n",
       "      <td>...</td>\n",
       "    </tr>\n",
       "    <tr>\n",
       "      <th>4607</th>\n",
       "      <td>tt0019646</td>\n",
       "      <td>1</td>\n",
       "      <td>L'argent</td>\n",
       "      <td>\\N</td>\n",
       "      <td>\\N</td>\n",
       "      <td>original</td>\n",
       "      <td>\\N</td>\n",
       "      <td>1</td>\n",
       "      <td>tt0019646</td>\n",
       "      <td>movie</td>\n",
       "      <td>L'Argent</td>\n",
       "      <td>L'argent</td>\n",
       "      <td>0</td>\n",
       "      <td>1928</td>\n",
       "      <td>\\N</td>\n",
       "      <td>195</td>\n",
       "      <td>Drama,Romance</td>\n",
       "      <td>7.5</td>\n",
       "      <td>1175</td>\n",
       "      <td>1920</td>\n",
       "    </tr>\n",
       "    <tr>\n",
       "      <th>4636</th>\n",
       "      <td>tt0019649</td>\n",
       "      <td>1</td>\n",
       "      <td>Arsenal</td>\n",
       "      <td>\\N</td>\n",
       "      <td>\\N</td>\n",
       "      <td>original</td>\n",
       "      <td>\\N</td>\n",
       "      <td>1</td>\n",
       "      <td>tt0019649</td>\n",
       "      <td>movie</td>\n",
       "      <td>Arsenal</td>\n",
       "      <td>Arsenal</td>\n",
       "      <td>0</td>\n",
       "      <td>1929</td>\n",
       "      <td>\\N</td>\n",
       "      <td>70</td>\n",
       "      <td>Drama,War</td>\n",
       "      <td>7.1</td>\n",
       "      <td>2384</td>\n",
       "      <td>1920</td>\n",
       "    </tr>\n",
       "    <tr>\n",
       "      <th>4657</th>\n",
       "      <td>tt0019655</td>\n",
       "      <td>1</td>\n",
       "      <td>Asphalt</td>\n",
       "      <td>\\N</td>\n",
       "      <td>\\N</td>\n",
       "      <td>original</td>\n",
       "      <td>\\N</td>\n",
       "      <td>1</td>\n",
       "      <td>tt0019655</td>\n",
       "      <td>movie</td>\n",
       "      <td>Asphalt</td>\n",
       "      <td>Asphalt</td>\n",
       "      <td>0</td>\n",
       "      <td>1929</td>\n",
       "      <td>\\N</td>\n",
       "      <td>94</td>\n",
       "      <td>Crime,Drama,Romance</td>\n",
       "      <td>7.4</td>\n",
       "      <td>1725</td>\n",
       "      <td>1920</td>\n",
       "    </tr>\n",
       "    <tr>\n",
       "      <th>4678</th>\n",
       "      <td>tt0019702</td>\n",
       "      <td>1</td>\n",
       "      <td>Blackmail</td>\n",
       "      <td>\\N</td>\n",
       "      <td>\\N</td>\n",
       "      <td>original</td>\n",
       "      <td>\\N</td>\n",
       "      <td>1</td>\n",
       "      <td>tt0019702</td>\n",
       "      <td>movie</td>\n",
       "      <td>Blackmail</td>\n",
       "      <td>Blackmail</td>\n",
       "      <td>0</td>\n",
       "      <td>1929</td>\n",
       "      <td>\\N</td>\n",
       "      <td>85</td>\n",
       "      <td>Crime,Drama,Thriller</td>\n",
       "      <td>6.9</td>\n",
       "      <td>12345</td>\n",
       "      <td>1920</td>\n",
       "    </tr>\n",
       "    <tr>\n",
       "      <th>4719</th>\n",
       "      <td>tt0019760</td>\n",
       "      <td>1</td>\n",
       "      <td>Chelovek s kino-apparatom</td>\n",
       "      <td>\\N</td>\n",
       "      <td>\\N</td>\n",
       "      <td>original</td>\n",
       "      <td>\\N</td>\n",
       "      <td>1</td>\n",
       "      <td>tt0019760</td>\n",
       "      <td>movie</td>\n",
       "      <td>Man with a Movie Camera</td>\n",
       "      <td>Chelovek s kino-apparatom</td>\n",
       "      <td>0</td>\n",
       "      <td>1929</td>\n",
       "      <td>\\N</td>\n",
       "      <td>68</td>\n",
       "      <td>Documentary</td>\n",
       "      <td>8.3</td>\n",
       "      <td>28574</td>\n",
       "      <td>1920</td>\n",
       "    </tr>\n",
       "  </tbody>\n",
       "</table>\n",
       "<p>200 rows × 20 columns</p>\n",
       "</div>"
      ],
      "text/plain": [
       "        titleId  ordering                                   title region  \\\n",
       "0     tt0002130         1                               L'inferno     \\N   \n",
       "20    tt0002844         1  Fantômas I: À l'ombre de la guillotine     \\N   \n",
       "21    tt0002844        10                       The Phantom Crook     \\N   \n",
       "24    tt0002844        13                                Fantômas     \\N   \n",
       "48    tt0003014         1                           Ingeborg Holm     \\N   \n",
       "...         ...       ...                                     ...    ...   \n",
       "4607  tt0019646         1                                L'argent     \\N   \n",
       "4636  tt0019649         1                                 Arsenal     \\N   \n",
       "4657  tt0019655         1                                 Asphalt     \\N   \n",
       "4678  tt0019702         1                               Blackmail     \\N   \n",
       "4719  tt0019760         1               Chelovek s kino-apparatom     \\N   \n",
       "\n",
       "     language     types attributes  isOriginalTitle     tconst titleType  \\\n",
       "0          \\N  original         \\N                1  tt0002130     movie   \n",
       "20         \\N  original         \\N                1  tt0002844     movie   \n",
       "21         \\N        \\N         \\N                0  tt0002844     movie   \n",
       "24         \\N        \\N         \\N                0  tt0002844     movie   \n",
       "48         \\N  original         \\N                1  tt0003014     movie   \n",
       "...       ...       ...        ...              ...        ...       ...   \n",
       "4607       \\N  original         \\N                1  tt0019646     movie   \n",
       "4636       \\N  original         \\N                1  tt0019649     movie   \n",
       "4657       \\N  original         \\N                1  tt0019655     movie   \n",
       "4678       \\N  original         \\N                1  tt0019702     movie   \n",
       "4719       \\N  original         \\N                1  tt0019760     movie   \n",
       "\n",
       "                                   primaryTitle  \\\n",
       "0                               Dante's Inferno   \n",
       "20    Fantômas: In the Shadow of the Guillotine   \n",
       "21    Fantômas: In the Shadow of the Guillotine   \n",
       "24    Fantômas: In the Shadow of the Guillotine   \n",
       "48                                Ingeborg Holm   \n",
       "...                                         ...   \n",
       "4607                                   L'Argent   \n",
       "4636                                    Arsenal   \n",
       "4657                                    Asphalt   \n",
       "4678                                  Blackmail   \n",
       "4719                    Man with a Movie Camera   \n",
       "\n",
       "                               originalTitle isAdult  startYear endYear  \\\n",
       "0                                  L'inferno       0       1911      \\N   \n",
       "20    Fantômas I: À l'ombre de la guillotine       0       1913      \\N   \n",
       "21    Fantômas I: À l'ombre de la guillotine       0       1913      \\N   \n",
       "24    Fantômas I: À l'ombre de la guillotine       0       1913      \\N   \n",
       "48                             Ingeborg Holm       0       1913      \\N   \n",
       "...                                      ...     ...        ...     ...   \n",
       "4607                                L'argent       0       1928      \\N   \n",
       "4636                                 Arsenal       0       1929      \\N   \n",
       "4657                                 Asphalt       0       1929      \\N   \n",
       "4678                               Blackmail       0       1929      \\N   \n",
       "4719               Chelovek s kino-apparatom       0       1929      \\N   \n",
       "\n",
       "     runtimeMinutes                   genres  averageRating  numVotes  \\\n",
       "0                71  Adventure,Drama,Fantasy            7.0      3647   \n",
       "20               54              Crime,Drama            6.9      2561   \n",
       "21               54              Crime,Drama            6.9      2561   \n",
       "24               54              Crime,Drama            6.9      2561   \n",
       "48               96                    Drama            7.0      1478   \n",
       "...             ...                      ...            ...       ...   \n",
       "4607            195            Drama,Romance            7.5      1175   \n",
       "4636             70                Drama,War            7.1      2384   \n",
       "4657             94      Crime,Drama,Romance            7.4      1725   \n",
       "4678             85     Crime,Drama,Thriller            6.9     12345   \n",
       "4719             68              Documentary            8.3     28574   \n",
       "\n",
       "      bucket 10  \n",
       "0          1910  \n",
       "20         1910  \n",
       "21         1910  \n",
       "24         1910  \n",
       "48         1910  \n",
       "...         ...  \n",
       "4607       1920  \n",
       "4636       1920  \n",
       "4657       1920  \n",
       "4678       1920  \n",
       "4719       1920  \n",
       "\n",
       "[200 rows x 20 columns]"
      ]
     },
     "execution_count": 80,
     "metadata": {},
     "output_type": "execute_result"
    }
   ],
   "source": [
    "'''#merge movie avec akas :\n",
    "\n",
    "merge_akas_movie_filter = df_pj2_akas.merge(df_merge_basics_wth_movie_tv_movie, how='inner', left_on=['titleId'], right_on=['tconst'])\n",
    "\n",
    "merge_akas_movie_filter.info()\n",
    "\n",
    "n_value_mask_region = merge_akas_movie_filter['region'] == r'\\N'\n",
    "\n",
    "\n",
    "merge_akas_movie_filter_n_value = merge_akas_movie_filter[n_value_mask_region]\n",
    "\n",
    "merge_akas_movie_filter_n_value.head(200)'''"
   ]
  },
  {
   "cell_type": "code",
   "execution_count": null,
   "metadata": {},
   "outputs": [
    {
     "name": "stdout",
     "output_type": "stream",
     "text": [
      "<class 'pandas.core.frame.DataFrame'>\n",
      "Index: 8791 entries, 325 to 390134\n",
      "Data columns (total 20 columns):\n",
      " #   Column           Non-Null Count  Dtype  \n",
      "---  ------           --------------  -----  \n",
      " 0   titleId          8791 non-null   object \n",
      " 1   ordering         8791 non-null   int64  \n",
      " 2   title            8791 non-null   object \n",
      " 3   region           8791 non-null   object \n",
      " 4   language         8791 non-null   object \n",
      " 5   types            8791 non-null   object \n",
      " 6   attributes       8791 non-null   object \n",
      " 7   isOriginalTitle  8791 non-null   int64  \n",
      " 8   tconst           8791 non-null   object \n",
      " 9   titleType        8791 non-null   object \n",
      " 10  primaryTitle     8791 non-null   object \n",
      " 11  originalTitle    8791 non-null   object \n",
      " 12  isAdult          8791 non-null   object \n",
      " 13  startYear        8791 non-null   int32  \n",
      " 14  endYear          8791 non-null   object \n",
      " 15  runtimeMinutes   8791 non-null   object \n",
      " 16  genres           8791 non-null   object \n",
      " 17  averageRating    8791 non-null   float64\n",
      " 18  numVotes         8791 non-null   int64  \n",
      " 19  bucket 10        8791 non-null   int32  \n",
      "dtypes: float64(1), int32(2), int64(3), object(14)\n",
      "memory usage: 1.3+ MB\n"
     ]
    }
   ],
   "source": [
    "mask_merge_language_fr = merge_akas_movie_filter['language'] == 'fr'\n",
    "\n",
    "merge_akas_movie_filter_fr = merge_akas_movie_filter[mask_merge_language_fr]\n",
    "\n",
    "merge_akas_movie_filter_fr.info()"
   ]
  },
  {
   "cell_type": "code",
   "execution_count": null,
   "metadata": {},
   "outputs": [
    {
     "name": "stderr",
     "output_type": "stream",
     "text": [
      "C:\\Users\\remim\\AppData\\Local\\Temp\\ipykernel_33136\\2723196726.py:2: DtypeWarning:\n",
      "\n",
      "Columns (24) have mixed types. Specify dtype option on import or set low_memory=False.\n",
      "\n"
     ]
    },
    {
     "name": "stdout",
     "output_type": "stream",
     "text": [
      "<class 'pandas.core.frame.DataFrame'>\n",
      "RangeIndex: 309572 entries, 0 to 309571\n",
      "Data columns (total 25 columns):\n",
      " #   Column                        Non-Null Count   Dtype  \n",
      "---  ------                        --------------   -----  \n",
      " 0   adult                         309572 non-null  bool   \n",
      " 1   backdrop_path                 151760 non-null  object \n",
      " 2   budget                        309572 non-null  int64  \n",
      " 3   genres                        309572 non-null  object \n",
      " 4   homepage                      44262 non-null   object \n",
      " 5   id                            309572 non-null  int64  \n",
      " 6   imdb_id                       309572 non-null  object \n",
      " 7   original_language             309572 non-null  object \n",
      " 8   original_title                309572 non-null  object \n",
      " 9   overview                      282512 non-null  object \n",
      " 10  popularity                    309572 non-null  float64\n",
      " 11  poster_path                   264159 non-null  object \n",
      " 12  production_countries          309572 non-null  object \n",
      " 13  release_date                  301339 non-null  object \n",
      " 14  revenue                       309572 non-null  int64  \n",
      " 15  runtime                       309572 non-null  int64  \n",
      " 16  spoken_languages              309572 non-null  object \n",
      " 17  status                        309572 non-null  object \n",
      " 18  tagline                       74573 non-null   object \n",
      " 19  title                         309572 non-null  object \n",
      " 20  video                         309572 non-null  bool   \n",
      " 21  vote_average                  309572 non-null  float64\n",
      " 22  vote_count                    309572 non-null  int64  \n",
      " 23  production_companies_name     309572 non-null  object \n",
      " 24  production_companies_country  164438 non-null  object \n",
      "dtypes: bool(2), float64(2), int64(5), object(16)\n",
      "memory usage: 54.9+ MB\n"
     ]
    }
   ],
   "source": [
    "link = \"tmdb_full.csv\"\n",
    "df_pj2_tmdb_full= pd.read_csv(link)\n",
    "\n"
   ]
  },
  {
   "cell_type": "code",
   "execution_count": null,
   "metadata": {},
   "outputs": [
    {
     "name": "stdout",
     "output_type": "stream",
     "text": [
      "<class 'pandas.core.frame.DataFrame'>\n",
      "RangeIndex: 309572 entries, 0 to 309571\n",
      "Data columns (total 25 columns):\n",
      " #   Column                        Non-Null Count   Dtype  \n",
      "---  ------                        --------------   -----  \n",
      " 0   adult                         309572 non-null  bool   \n",
      " 1   backdrop_path                 151760 non-null  object \n",
      " 2   budget                        309572 non-null  int64  \n",
      " 3   genres                        309572 non-null  object \n",
      " 4   homepage                      44262 non-null   object \n",
      " 5   id                            309572 non-null  int64  \n",
      " 6   imdb_id                       309572 non-null  object \n",
      " 7   original_language             309572 non-null  object \n",
      " 8   original_title                309572 non-null  object \n",
      " 9   overview                      282512 non-null  object \n",
      " 10  popularity                    309572 non-null  float64\n",
      " 11  poster_path                   264159 non-null  object \n",
      " 12  production_countries          309572 non-null  object \n",
      " 13  release_date                  301339 non-null  object \n",
      " 14  revenue                       309572 non-null  int64  \n",
      " 15  runtime                       309572 non-null  int64  \n",
      " 16  spoken_languages              309572 non-null  object \n",
      " 17  status                        309572 non-null  object \n",
      " 18  tagline                       74573 non-null   object \n",
      " 19  title                         309572 non-null  object \n",
      " 20  video                         309572 non-null  bool   \n",
      " 21  vote_average                  309572 non-null  float64\n",
      " 22  vote_count                    309572 non-null  int64  \n",
      " 23  production_companies_name     309572 non-null  object \n",
      " 24  production_companies_country  164438 non-null  object \n",
      "dtypes: bool(2), float64(2), int64(5), object(16)\n",
      "memory usage: 54.9+ MB\n"
     ]
    }
   ],
   "source": [
    "#travail sur la base de données TMDB fournit avec image etc...\n",
    "\n",
    "df_pj2_tmdb_full.info()"
   ]
  },
  {
   "cell_type": "code",
   "execution_count": null,
   "metadata": {},
   "outputs": [
    {
     "name": "stdout",
     "output_type": "stream",
     "text": [
      "<class 'pandas.core.frame.DataFrame'>\n",
      "RangeIndex: 15441 entries, 0 to 15440\n",
      "Data columns (total 39 columns):\n",
      " #   Column                        Non-Null Count  Dtype  \n",
      "---  ------                        --------------  -----  \n",
      " 0   tconst                        15441 non-null  object \n",
      " 1   titleType                     15441 non-null  object \n",
      " 2   primaryTitle                  15441 non-null  object \n",
      " 3   originalTitle                 15441 non-null  object \n",
      " 4   isAdult                       15441 non-null  object \n",
      " 5   startYear                     15441 non-null  int32  \n",
      " 6   endYear                       15441 non-null  object \n",
      " 7   runtimeMinutes                15441 non-null  object \n",
      " 8   genres_x                      15441 non-null  object \n",
      " 9   averageRating                 15441 non-null  float64\n",
      " 10  numVotes                      15441 non-null  int64  \n",
      " 11  bucket 10                     15441 non-null  int32  \n",
      " 12  bucket 5                      15441 non-null  int32  \n",
      " 13  lg title movie                15441 non-null  object \n",
      " 14  adult                         14624 non-null  object \n",
      " 15  backdrop_path                 13727 non-null  object \n",
      " 16  budget                        14624 non-null  float64\n",
      " 17  genres_y                      14624 non-null  object \n",
      " 18  homepage                      3572 non-null   object \n",
      " 19  id                            14624 non-null  float64\n",
      " 20  imdb_id                       14624 non-null  object \n",
      " 21  original_language             14624 non-null  object \n",
      " 22  original_title                14624 non-null  object \n",
      " 23  overview                      14552 non-null  object \n",
      " 24  popularity                    14624 non-null  float64\n",
      " 25  poster_path                   14538 non-null  object \n",
      " 26  production_countries          14624 non-null  object \n",
      " 27  release_date                  14557 non-null  object \n",
      " 28  revenue                       14624 non-null  float64\n",
      " 29  runtime                       14624 non-null  float64\n",
      " 30  spoken_languages              14624 non-null  object \n",
      " 31  status                        14624 non-null  object \n",
      " 32  tagline                       7601 non-null   object \n",
      " 33  title                         14624 non-null  object \n",
      " 34  video                         14624 non-null  object \n",
      " 35  vote_average                  14624 non-null  float64\n",
      " 36  vote_count                    14624 non-null  float64\n",
      " 37  production_companies_name     14624 non-null  object \n",
      " 38  production_companies_country  7103 non-null   object \n",
      "dtypes: float64(8), int32(3), int64(1), object(27)\n",
      "memory usage: 4.4+ MB\n"
     ]
    }
   ],
   "source": [
    "df_pj2_tmdb_full\n",
    "\n",
    "merge_imdb_tmdb = df_ratings_merge_basics_ss_short.merge(df_pj2_tmdb_full, how='left', left_on=['tconst'], right_on=['imdb_id'])\n",
    "\n",
    "merge_imdb_tmdb.info()"
   ]
  },
  {
   "cell_type": "code",
   "execution_count": null,
   "metadata": {},
   "outputs": [
    {
     "data": {
      "text/plain": [
       "count    14624.000000\n",
       "mean         0.437585\n",
       "std          1.049573\n",
       "min         -3.100000\n",
       "25%          0.075000\n",
       "50%          0.286000\n",
       "75%          0.516000\n",
       "max          8.900000\n",
       "Name: ecart note, dtype: float64"
      ]
     },
     "execution_count": 183,
     "metadata": {},
     "output_type": "execute_result"
    }
   ],
   "source": [
    "merge_imdb_tmdb['ecart note'] = merge_imdb_tmdb['averageRating'] - merge_imdb_tmdb['vote_average']\n",
    "merge_imdb_tmdb['ecart vote'] = merge_imdb_tmdb['numVotes'] - merge_imdb_tmdb['vote_count']\n",
    "\n",
    "merge_imdb_tmdb['ecart note'].describe()"
   ]
  },
  {
   "cell_type": "code",
   "execution_count": null,
   "metadata": {},
   "outputs": [
    {
     "data": {
      "text/plain": [
       "count    537.000000\n",
       "mean       4.629060\n",
       "std        2.710903\n",
       "min        1.500000\n",
       "25%        1.900000\n",
       "50%        3.900000\n",
       "75%        7.300000\n",
       "max        8.900000\n",
       "Name: ecart note, dtype: float64"
      ]
     },
     "execution_count": 193,
     "metadata": {},
     "output_type": "execute_result"
    }
   ],
   "source": [
    "masque_ecart_note = merge_imdb_tmdb['ecart note'] > 1.5\n",
    "\n",
    "merge_imdb_tmdb_ecart_note = merge_imdb_tmdb[masque_ecart_note]\n",
    "\n",
    "merge_imdb_tmdb_ecart_note['ecart note'].describe()"
   ]
  },
  {
   "cell_type": "code",
   "execution_count": null,
   "metadata": {},
   "outputs": [],
   "source": [
    "merge_imdb_tmdb.to_excel('merge_rating_lg.xlsx', index=False)"
   ]
  },
  {
   "cell_type": "code",
   "execution_count": null,
   "metadata": {},
   "outputs": [
    {
     "name": "stdout",
     "output_type": "stream",
     "text": [
      "<class 'pandas.core.frame.DataFrame'>\n",
      "RangeIndex: 309572 entries, 0 to 309571\n",
      "Data columns (total 25 columns):\n",
      " #   Column                        Non-Null Count   Dtype  \n",
      "---  ------                        --------------   -----  \n",
      " 0   adult                         309572 non-null  bool   \n",
      " 1   backdrop_path                 151760 non-null  object \n",
      " 2   budget                        309572 non-null  int64  \n",
      " 3   genres                        309572 non-null  object \n",
      " 4   homepage                      44262 non-null   object \n",
      " 5   id                            309572 non-null  int64  \n",
      " 6   imdb_id                       309572 non-null  object \n",
      " 7   original_language             309572 non-null  object \n",
      " 8   original_title                309572 non-null  object \n",
      " 9   overview                      282512 non-null  object \n",
      " 10  popularity                    309572 non-null  float64\n",
      " 11  poster_path                   264159 non-null  object \n",
      " 12  production_countries          309572 non-null  object \n",
      " 13  release_date                  301339 non-null  object \n",
      " 14  revenue                       309572 non-null  int64  \n",
      " 15  runtime                       309572 non-null  int64  \n",
      " 16  spoken_languages              309572 non-null  object \n",
      " 17  status                        309572 non-null  object \n",
      " 18  tagline                       74573 non-null   object \n",
      " 19  title                         309572 non-null  object \n",
      " 20  video                         309572 non-null  bool   \n",
      " 21  vote_average                  309572 non-null  float64\n",
      " 22  vote_count                    309572 non-null  int64  \n",
      " 23  production_companies_name     309572 non-null  object \n",
      " 24  production_companies_country  164438 non-null  object \n",
      "dtypes: bool(2), float64(2), int64(5), object(16)\n",
      "memory usage: 54.9+ MB\n"
     ]
    }
   ],
   "source": [
    "#etude de la base de données tmdb avec la même approche :\n",
    "\n",
    "\n",
    "df_pj2_tmdb_full.info()"
   ]
  },
  {
   "cell_type": "code",
   "execution_count": null,
   "metadata": {},
   "outputs": [
    {
     "data": {
      "text/plain": [
       "count    309572.000000\n",
       "mean          2.719860\n",
       "std          21.206599\n",
       "min           0.600000\n",
       "25%           0.600000\n",
       "50%           1.083000\n",
       "75%           1.994000\n",
       "max        5089.969000\n",
       "Name: popularity, dtype: float64"
      ]
     },
     "execution_count": 195,
     "metadata": {},
     "output_type": "execute_result"
    }
   ],
   "source": [
    "df_pj2_tmdb_full['popularity'].describe()"
   ]
  },
  {
   "cell_type": "code",
   "execution_count": null,
   "metadata": {},
   "outputs": [
    {
     "data": {
      "text/plain": [
       "count    309572.000000\n",
       "mean          4.105471\n",
       "std           3.000611\n",
       "min           0.000000\n",
       "25%           0.000000\n",
       "50%           5.000000\n",
       "75%           6.400000\n",
       "max          10.000000\n",
       "Name: vote_average, dtype: float64"
      ]
     },
     "execution_count": 196,
     "metadata": {},
     "output_type": "execute_result"
    }
   ],
   "source": [
    "df_pj2_tmdb_full['vote_average'].describe()"
   ]
  },
  {
   "cell_type": "code",
   "execution_count": null,
   "metadata": {},
   "outputs": [
    {
     "data": {
      "text/plain": [
       "count    309572.000000\n",
       "mean         65.364616\n",
       "std         588.071450\n",
       "min           0.000000\n",
       "25%           0.000000\n",
       "50%           2.000000\n",
       "75%           9.000000\n",
       "max       33630.000000\n",
       "Name: vote_count, dtype: float64"
      ]
     },
     "execution_count": 197,
     "metadata": {},
     "output_type": "execute_result"
    }
   ],
   "source": [
    "df_pj2_tmdb_full['vote_count'].describe()"
   ]
  },
  {
   "cell_type": "code",
   "execution_count": null,
   "metadata": {},
   "outputs": [],
   "source": [
    "masque_vote_count = (df_pj2_tmdb_full['vote_count'] > 20) & (df_pj2_tmdb_full['vote_average'] > 5) & (df_pj2_tmdb_full['popularity'] > 4)\n",
    "\n",
    "\n",
    "apply_masque_vote_20_tmdb_full = df_pj2_tmdb_full[masque_vote_count]\n",
    "\n",
    "apply_masque_vote_20_tmdb_full.to_excel('apply_masque_vote_20_tmdb_full.xlsx', index=False)"
   ]
  }
 ],
 "metadata": {
  "kernelspec": {
   "display_name": "Python 3",
   "language": "python",
   "name": "python3"
  },
  "language_info": {
   "codemirror_mode": {
    "name": "ipython",
    "version": 3
   },
   "file_extension": ".py",
   "mimetype": "text/x-python",
   "name": "python",
   "nbconvert_exporter": "python",
   "pygments_lexer": "ipython3",
   "version": "3.12.3"
  }
 },
 "nbformat": 4,
 "nbformat_minor": 2
}
