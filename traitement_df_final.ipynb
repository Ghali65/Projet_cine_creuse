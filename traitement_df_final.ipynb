{
 "cells": [
  {
   "cell_type": "code",
   "execution_count": 1,
   "metadata": {},
   "outputs": [],
   "source": [
    "import pandas as pd"
   ]
  },
  {
   "cell_type": "code",
   "execution_count": 2,
   "metadata": {},
   "outputs": [],
   "source": [
    "df_final = pd.read_csv('df_final.csv')"
   ]
  },
  {
   "cell_type": "code",
   "execution_count": 4,
   "metadata": {},
   "outputs": [
    {
     "name": "stdout",
     "output_type": "stream",
     "text": [
      "<class 'pandas.core.frame.DataFrame'>\n",
      "RangeIndex: 22774 entries, 0 to 22773\n",
      "Data columns (total 35 columns):\n",
      " #   Column                     Non-Null Count  Dtype  \n",
      "---  ------                     --------------  -----  \n",
      " 0   Unnamed: 0                 22774 non-null  int64  \n",
      " 1   tconst                     22774 non-null  object \n",
      " 2   titleType                  22774 non-null  object \n",
      " 3   primaryTitle               22774 non-null  object \n",
      " 4   originalTitle              22774 non-null  object \n",
      " 5   startYear                  22774 non-null  int64  \n",
      " 6   runtimeMinutes             22774 non-null  int64  \n",
      " 7   genres_x                   22774 non-null  object \n",
      " 8   averageRating              22774 non-null  float64\n",
      " 9   numVotes                   22774 non-null  int64  \n",
      " 10  bucket 10                  22774 non-null  int64  \n",
      " 11  backdrop_path              22774 non-null  object \n",
      " 12  original_language          22774 non-null  object \n",
      " 13  overview                   22774 non-null  object \n",
      " 14  popularity                 22774 non-null  float64\n",
      " 15  poster_path                22774 non-null  object \n",
      " 16  production_countries       22774 non-null  object \n",
      " 17  spoken_languages           22774 non-null  object \n",
      " 18  vote_average               22774 non-null  float64\n",
      " 19  vote_count                 22774 non-null  int64  \n",
      " 20  production_companies_name  22774 non-null  object \n",
      " 21  ecart vote                 22774 non-null  int64  \n",
      " 22  title_y                    22774 non-null  object \n",
      " 23  region                     22774 non-null  object \n",
      " 24  category                   22774 non-null  object \n",
      " 25  primaryName                22774 non-null  object \n",
      " 26  directors                  22774 non-null  object \n",
      " 27  job_name                   22774 non-null  object \n",
      " 28  Distances                  22774 non-null  object \n",
      " 29  Titres_voisins             22774 non-null  object \n",
      " 30  url_poster_path            22774 non-null  object \n",
      " 31  imdb_id                    22774 non-null  object \n",
      " 32  id                         22774 non-null  int64  \n",
      " 33  résumé                     22774 non-null  object \n",
      " 34  flag_resum                 22774 non-null  int64  \n",
      "dtypes: float64(3), int64(9), object(23)\n",
      "memory usage: 6.1+ MB\n"
     ]
    }
   ],
   "source": [
    "df_final.info()\n",
    "\n",
    "df_final = df_final.drop(columns=['Unnamed: 0','primaryTitle','tconst','originalTitle','bucket 10','overview','production_countries','ecart vote',\n",
    "                                  'region','job_name','imdb_id','id'])"
   ]
  },
  {
   "cell_type": "code",
   "execution_count": 6,
   "metadata": {},
   "outputs": [],
   "source": [
    "df_final.to_csv('df_final.csv')"
   ]
  }
 ],
 "metadata": {
  "kernelspec": {
   "display_name": "Python 3",
   "language": "python",
   "name": "python3"
  },
  "language_info": {
   "codemirror_mode": {
    "name": "ipython",
    "version": 3
   },
   "file_extension": ".py",
   "mimetype": "text/x-python",
   "name": "python",
   "nbconvert_exporter": "python",
   "pygments_lexer": "ipython3",
   "version": "3.12.3"
  }
 },
 "nbformat": 4,
 "nbformat_minor": 2
}
